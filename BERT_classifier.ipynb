{
  "nbformat": 4,
  "nbformat_minor": 0,
  "metadata": {
    "colab": {
      "name": "BERT_classifier (1).ipynb",
      "provenance": [],
      "collapsed_sections": []
    },
    "kernelspec": {
      "name": "python3",
      "display_name": "Python 3"
    },
    "language_info": {
      "name": "python"
    },
    "accelerator": "GPU"
  },
  "cells": [
    {
      "cell_type": "markdown",
      "source": [
        "# 0. Import Dependencies"
      ],
      "metadata": {
        "id": "C38qzdYO-G55"
      }
    },
    {
      "cell_type": "code",
      "source": [
        "import csv\n",
        "import tweepy as tw\n",
        "import ssl\n",
        "import pandas as pd\n",
        "import numpy as np"
      ],
      "metadata": {
        "id": "KqIJbF11-TYn"
      },
      "execution_count": 56,
      "outputs": []
    },
    {
      "cell_type": "code",
      "source": [
        "import plotly.express as px"
      ],
      "metadata": {
        "id": "D9T5gUUaHsyt"
      },
      "execution_count": 57,
      "outputs": []
    },
    {
      "cell_type": "code",
      "source": [
        "data = pd.read_csv(\"/content/tweets.csv\")"
      ],
      "metadata": {
        "id": "qMShLIj0-yr9"
      },
      "execution_count": 58,
      "outputs": []
    },
    {
      "cell_type": "markdown",
      "source": [
        "# 1. Data Analysis"
      ],
      "metadata": {
        "id": "zuZ-9acrGPtK"
      }
    },
    {
      "cell_type": "code",
      "source": [
        "print(data.shape)"
      ],
      "metadata": {
        "colab": {
          "base_uri": "https://localhost:8080/"
        },
        "id": "ScRQv5_pHFTq",
        "outputId": "2918def1-270a-4d04-8785-335112dfea60"
      },
      "execution_count": 59,
      "outputs": [
        {
          "output_type": "stream",
          "name": "stdout",
          "text": [
            "(123, 2)\n"
          ]
        }
      ]
    },
    {
      "cell_type": "code",
      "source": [
        "data"
      ],
      "metadata": {
        "colab": {
          "base_uri": "https://localhost:8080/",
          "height": 424
        },
        "id": "HB9BaJz5GUB7",
        "outputId": "857f92c0-d582-4588-e74a-7b3cf804ef22"
      },
      "execution_count": 60,
      "outputs": [
        {
          "output_type": "execute_result",
          "data": {
            "text/plain": [
              "                                                 tweet  label\n",
              "0    RT @millersoto: Volví a ver #ElDebateDefinitiv...      1\n",
              "1    RT @honohenriquez: \"Una vez se van las democra...      1\n",
              "2    RT @PartidoMIRA: \"Se necesitan más liderazgos ...      1\n",
              "3    RT @PartidoMIRA: #FedericoEsColombia #FicoEsCa...      1\n",
              "4    RT @Nevil_22: En #ElDebateDefinitivo sale de n...      0\n",
              "..                                                 ...    ...\n",
              "118  @Margaritarosadf @petrogustavo Vimos un debate...      0\n",
              "119  RT @dicalaca18: La actitud de Petro hoy, ademá...      0\n",
              "120  #VotoPor 🤬🤬🤬🤬🤬🤬OJO 200 AÑOS MAS EN EL LEGADO D...      0\n",
              "121  RT @Categrico2: #ElDebateDefinitivo\\r\\n\"El Can...      0\n",
              "122  RT @Borisanchezmald: @jarizabaletaf @AreizaEch...      1\n",
              "\n",
              "[123 rows x 2 columns]"
            ],
            "text/html": [
              "\n",
              "  <div id=\"df-cb3bcb71-09d9-4da0-a55e-ee16cb407655\">\n",
              "    <div class=\"colab-df-container\">\n",
              "      <div>\n",
              "<style scoped>\n",
              "    .dataframe tbody tr th:only-of-type {\n",
              "        vertical-align: middle;\n",
              "    }\n",
              "\n",
              "    .dataframe tbody tr th {\n",
              "        vertical-align: top;\n",
              "    }\n",
              "\n",
              "    .dataframe thead th {\n",
              "        text-align: right;\n",
              "    }\n",
              "</style>\n",
              "<table border=\"1\" class=\"dataframe\">\n",
              "  <thead>\n",
              "    <tr style=\"text-align: right;\">\n",
              "      <th></th>\n",
              "      <th>tweet</th>\n",
              "      <th>label</th>\n",
              "    </tr>\n",
              "  </thead>\n",
              "  <tbody>\n",
              "    <tr>\n",
              "      <th>0</th>\n",
              "      <td>RT @millersoto: Volví a ver #ElDebateDefinitiv...</td>\n",
              "      <td>1</td>\n",
              "    </tr>\n",
              "    <tr>\n",
              "      <th>1</th>\n",
              "      <td>RT @honohenriquez: \"Una vez se van las democra...</td>\n",
              "      <td>1</td>\n",
              "    </tr>\n",
              "    <tr>\n",
              "      <th>2</th>\n",
              "      <td>RT @PartidoMIRA: \"Se necesitan más liderazgos ...</td>\n",
              "      <td>1</td>\n",
              "    </tr>\n",
              "    <tr>\n",
              "      <th>3</th>\n",
              "      <td>RT @PartidoMIRA: #FedericoEsColombia #FicoEsCa...</td>\n",
              "      <td>1</td>\n",
              "    </tr>\n",
              "    <tr>\n",
              "      <th>4</th>\n",
              "      <td>RT @Nevil_22: En #ElDebateDefinitivo sale de n...</td>\n",
              "      <td>0</td>\n",
              "    </tr>\n",
              "    <tr>\n",
              "      <th>...</th>\n",
              "      <td>...</td>\n",
              "      <td>...</td>\n",
              "    </tr>\n",
              "    <tr>\n",
              "      <th>118</th>\n",
              "      <td>@Margaritarosadf @petrogustavo Vimos un debate...</td>\n",
              "      <td>0</td>\n",
              "    </tr>\n",
              "    <tr>\n",
              "      <th>119</th>\n",
              "      <td>RT @dicalaca18: La actitud de Petro hoy, ademá...</td>\n",
              "      <td>0</td>\n",
              "    </tr>\n",
              "    <tr>\n",
              "      <th>120</th>\n",
              "      <td>#VotoPor 🤬🤬🤬🤬🤬🤬OJO 200 AÑOS MAS EN EL LEGADO D...</td>\n",
              "      <td>0</td>\n",
              "    </tr>\n",
              "    <tr>\n",
              "      <th>121</th>\n",
              "      <td>RT @Categrico2: #ElDebateDefinitivo\\r\\n\"El Can...</td>\n",
              "      <td>0</td>\n",
              "    </tr>\n",
              "    <tr>\n",
              "      <th>122</th>\n",
              "      <td>RT @Borisanchezmald: @jarizabaletaf @AreizaEch...</td>\n",
              "      <td>1</td>\n",
              "    </tr>\n",
              "  </tbody>\n",
              "</table>\n",
              "<p>123 rows × 2 columns</p>\n",
              "</div>\n",
              "      <button class=\"colab-df-convert\" onclick=\"convertToInteractive('df-cb3bcb71-09d9-4da0-a55e-ee16cb407655')\"\n",
              "              title=\"Convert this dataframe to an interactive table.\"\n",
              "              style=\"display:none;\">\n",
              "        \n",
              "  <svg xmlns=\"http://www.w3.org/2000/svg\" height=\"24px\"viewBox=\"0 0 24 24\"\n",
              "       width=\"24px\">\n",
              "    <path d=\"M0 0h24v24H0V0z\" fill=\"none\"/>\n",
              "    <path d=\"M18.56 5.44l.94 2.06.94-2.06 2.06-.94-2.06-.94-.94-2.06-.94 2.06-2.06.94zm-11 1L8.5 8.5l.94-2.06 2.06-.94-2.06-.94L8.5 2.5l-.94 2.06-2.06.94zm10 10l.94 2.06.94-2.06 2.06-.94-2.06-.94-.94-2.06-.94 2.06-2.06.94z\"/><path d=\"M17.41 7.96l-1.37-1.37c-.4-.4-.92-.59-1.43-.59-.52 0-1.04.2-1.43.59L10.3 9.45l-7.72 7.72c-.78.78-.78 2.05 0 2.83L4 21.41c.39.39.9.59 1.41.59.51 0 1.02-.2 1.41-.59l7.78-7.78 2.81-2.81c.8-.78.8-2.07 0-2.86zM5.41 20L4 18.59l7.72-7.72 1.47 1.35L5.41 20z\"/>\n",
              "  </svg>\n",
              "      </button>\n",
              "      \n",
              "  <style>\n",
              "    .colab-df-container {\n",
              "      display:flex;\n",
              "      flex-wrap:wrap;\n",
              "      gap: 12px;\n",
              "    }\n",
              "\n",
              "    .colab-df-convert {\n",
              "      background-color: #E8F0FE;\n",
              "      border: none;\n",
              "      border-radius: 50%;\n",
              "      cursor: pointer;\n",
              "      display: none;\n",
              "      fill: #1967D2;\n",
              "      height: 32px;\n",
              "      padding: 0 0 0 0;\n",
              "      width: 32px;\n",
              "    }\n",
              "\n",
              "    .colab-df-convert:hover {\n",
              "      background-color: #E2EBFA;\n",
              "      box-shadow: 0px 1px 2px rgba(60, 64, 67, 0.3), 0px 1px 3px 1px rgba(60, 64, 67, 0.15);\n",
              "      fill: #174EA6;\n",
              "    }\n",
              "\n",
              "    [theme=dark] .colab-df-convert {\n",
              "      background-color: #3B4455;\n",
              "      fill: #D2E3FC;\n",
              "    }\n",
              "\n",
              "    [theme=dark] .colab-df-convert:hover {\n",
              "      background-color: #434B5C;\n",
              "      box-shadow: 0px 1px 3px 1px rgba(0, 0, 0, 0.15);\n",
              "      filter: drop-shadow(0px 1px 2px rgba(0, 0, 0, 0.3));\n",
              "      fill: #FFFFFF;\n",
              "    }\n",
              "  </style>\n",
              "\n",
              "      <script>\n",
              "        const buttonEl =\n",
              "          document.querySelector('#df-cb3bcb71-09d9-4da0-a55e-ee16cb407655 button.colab-df-convert');\n",
              "        buttonEl.style.display =\n",
              "          google.colab.kernel.accessAllowed ? 'block' : 'none';\n",
              "\n",
              "        async function convertToInteractive(key) {\n",
              "          const element = document.querySelector('#df-cb3bcb71-09d9-4da0-a55e-ee16cb407655');\n",
              "          const dataTable =\n",
              "            await google.colab.kernel.invokeFunction('convertToInteractive',\n",
              "                                                     [key], {});\n",
              "          if (!dataTable) return;\n",
              "\n",
              "          const docLinkHtml = 'Like what you see? Visit the ' +\n",
              "            '<a target=\"_blank\" href=https://colab.research.google.com/notebooks/data_table.ipynb>data table notebook</a>'\n",
              "            + ' to learn more about interactive tables.';\n",
              "          element.innerHTML = '';\n",
              "          dataTable['output_type'] = 'display_data';\n",
              "          await google.colab.output.renderOutput(dataTable, element);\n",
              "          const docLink = document.createElement('div');\n",
              "          docLink.innerHTML = docLinkHtml;\n",
              "          element.appendChild(docLink);\n",
              "        }\n",
              "      </script>\n",
              "    </div>\n",
              "  </div>\n",
              "  "
            ]
          },
          "metadata": {},
          "execution_count": 60
        }
      ]
    },
    {
      "cell_type": "code",
      "source": [
        "#Classs distribution\n",
        "\n",
        "d =pd.DataFrame(data[\"label\"].value_counts())\n",
        "fig = px.pie(d, values =\"label\", names=[\"Positive\", \"Negative\"], hole = 0.4, opacity=0.8,\n",
        "            labels={\"label\":\"Tweets\",\"Tweets\":\"Number of Samples\"})\n",
        "fig.update_layout(title = dict(text=\"Pie Chart of Sentiment Feature\"))\n",
        "fig.update_traces(textposition=\"outside\",textinfo=\"percent+label\")\n",
        "fig.show()"
      ],
      "metadata": {
        "colab": {
          "base_uri": "https://localhost:8080/",
          "height": 542
        },
        "id": "Tfh0G4-xHkv2",
        "outputId": "c6958be9-56a0-4550-d7bc-42ddd77ffaf3"
      },
      "execution_count": 61,
      "outputs": [
        {
          "output_type": "display_data",
          "data": {
            "text/html": [
              "<html>\n",
              "<head><meta charset=\"utf-8\" /></head>\n",
              "<body>\n",
              "    <div>            <script src=\"https://cdnjs.cloudflare.com/ajax/libs/mathjax/2.7.5/MathJax.js?config=TeX-AMS-MML_SVG\"></script><script type=\"text/javascript\">if (window.MathJax) {MathJax.Hub.Config({SVG: {font: \"STIX-Web\"}});}</script>                <script type=\"text/javascript\">window.PlotlyConfig = {MathJaxConfig: 'local'};</script>\n",
              "        <script src=\"https://cdn.plot.ly/plotly-2.8.3.min.js\"></script>                <div id=\"d7219efc-eff5-4774-be67-5310470b46b4\" class=\"plotly-graph-div\" style=\"height:525px; width:100%;\"></div>            <script type=\"text/javascript\">                                    window.PLOTLYENV=window.PLOTLYENV || {};                                    if (document.getElementById(\"d7219efc-eff5-4774-be67-5310470b46b4\")) {                    Plotly.newPlot(                        \"d7219efc-eff5-4774-be67-5310470b46b4\",                        [{\"domain\":{\"x\":[0.0,1.0],\"y\":[0.0,1.0]},\"hole\":0.4,\"hovertemplate\":\"label=%{label}<br>Tweets=%{value}<extra></extra>\",\"labels\":[\"Positive\",\"Negative\"],\"legendgroup\":\"\",\"name\":\"\",\"opacity\":0.8,\"showlegend\":true,\"values\":[80,43],\"type\":\"pie\",\"textinfo\":\"percent+label\",\"textposition\":\"outside\"}],                        {\"template\":{\"data\":{\"bar\":[{\"error_x\":{\"color\":\"#2a3f5f\"},\"error_y\":{\"color\":\"#2a3f5f\"},\"marker\":{\"line\":{\"color\":\"#E5ECF6\",\"width\":0.5},\"pattern\":{\"fillmode\":\"overlay\",\"size\":10,\"solidity\":0.2}},\"type\":\"bar\"}],\"barpolar\":[{\"marker\":{\"line\":{\"color\":\"#E5ECF6\",\"width\":0.5},\"pattern\":{\"fillmode\":\"overlay\",\"size\":10,\"solidity\":0.2}},\"type\":\"barpolar\"}],\"carpet\":[{\"aaxis\":{\"endlinecolor\":\"#2a3f5f\",\"gridcolor\":\"white\",\"linecolor\":\"white\",\"minorgridcolor\":\"white\",\"startlinecolor\":\"#2a3f5f\"},\"baxis\":{\"endlinecolor\":\"#2a3f5f\",\"gridcolor\":\"white\",\"linecolor\":\"white\",\"minorgridcolor\":\"white\",\"startlinecolor\":\"#2a3f5f\"},\"type\":\"carpet\"}],\"choropleth\":[{\"colorbar\":{\"outlinewidth\":0,\"ticks\":\"\"},\"type\":\"choropleth\"}],\"contour\":[{\"colorbar\":{\"outlinewidth\":0,\"ticks\":\"\"},\"colorscale\":[[0.0,\"#0d0887\"],[0.1111111111111111,\"#46039f\"],[0.2222222222222222,\"#7201a8\"],[0.3333333333333333,\"#9c179e\"],[0.4444444444444444,\"#bd3786\"],[0.5555555555555556,\"#d8576b\"],[0.6666666666666666,\"#ed7953\"],[0.7777777777777778,\"#fb9f3a\"],[0.8888888888888888,\"#fdca26\"],[1.0,\"#f0f921\"]],\"type\":\"contour\"}],\"contourcarpet\":[{\"colorbar\":{\"outlinewidth\":0,\"ticks\":\"\"},\"type\":\"contourcarpet\"}],\"heatmap\":[{\"colorbar\":{\"outlinewidth\":0,\"ticks\":\"\"},\"colorscale\":[[0.0,\"#0d0887\"],[0.1111111111111111,\"#46039f\"],[0.2222222222222222,\"#7201a8\"],[0.3333333333333333,\"#9c179e\"],[0.4444444444444444,\"#bd3786\"],[0.5555555555555556,\"#d8576b\"],[0.6666666666666666,\"#ed7953\"],[0.7777777777777778,\"#fb9f3a\"],[0.8888888888888888,\"#fdca26\"],[1.0,\"#f0f921\"]],\"type\":\"heatmap\"}],\"heatmapgl\":[{\"colorbar\":{\"outlinewidth\":0,\"ticks\":\"\"},\"colorscale\":[[0.0,\"#0d0887\"],[0.1111111111111111,\"#46039f\"],[0.2222222222222222,\"#7201a8\"],[0.3333333333333333,\"#9c179e\"],[0.4444444444444444,\"#bd3786\"],[0.5555555555555556,\"#d8576b\"],[0.6666666666666666,\"#ed7953\"],[0.7777777777777778,\"#fb9f3a\"],[0.8888888888888888,\"#fdca26\"],[1.0,\"#f0f921\"]],\"type\":\"heatmapgl\"}],\"histogram\":[{\"marker\":{\"pattern\":{\"fillmode\":\"overlay\",\"size\":10,\"solidity\":0.2}},\"type\":\"histogram\"}],\"histogram2d\":[{\"colorbar\":{\"outlinewidth\":0,\"ticks\":\"\"},\"colorscale\":[[0.0,\"#0d0887\"],[0.1111111111111111,\"#46039f\"],[0.2222222222222222,\"#7201a8\"],[0.3333333333333333,\"#9c179e\"],[0.4444444444444444,\"#bd3786\"],[0.5555555555555556,\"#d8576b\"],[0.6666666666666666,\"#ed7953\"],[0.7777777777777778,\"#fb9f3a\"],[0.8888888888888888,\"#fdca26\"],[1.0,\"#f0f921\"]],\"type\":\"histogram2d\"}],\"histogram2dcontour\":[{\"colorbar\":{\"outlinewidth\":0,\"ticks\":\"\"},\"colorscale\":[[0.0,\"#0d0887\"],[0.1111111111111111,\"#46039f\"],[0.2222222222222222,\"#7201a8\"],[0.3333333333333333,\"#9c179e\"],[0.4444444444444444,\"#bd3786\"],[0.5555555555555556,\"#d8576b\"],[0.6666666666666666,\"#ed7953\"],[0.7777777777777778,\"#fb9f3a\"],[0.8888888888888888,\"#fdca26\"],[1.0,\"#f0f921\"]],\"type\":\"histogram2dcontour\"}],\"mesh3d\":[{\"colorbar\":{\"outlinewidth\":0,\"ticks\":\"\"},\"type\":\"mesh3d\"}],\"parcoords\":[{\"line\":{\"colorbar\":{\"outlinewidth\":0,\"ticks\":\"\"}},\"type\":\"parcoords\"}],\"pie\":[{\"automargin\":true,\"type\":\"pie\"}],\"scatter\":[{\"marker\":{\"colorbar\":{\"outlinewidth\":0,\"ticks\":\"\"}},\"type\":\"scatter\"}],\"scatter3d\":[{\"line\":{\"colorbar\":{\"outlinewidth\":0,\"ticks\":\"\"}},\"marker\":{\"colorbar\":{\"outlinewidth\":0,\"ticks\":\"\"}},\"type\":\"scatter3d\"}],\"scattercarpet\":[{\"marker\":{\"colorbar\":{\"outlinewidth\":0,\"ticks\":\"\"}},\"type\":\"scattercarpet\"}],\"scattergeo\":[{\"marker\":{\"colorbar\":{\"outlinewidth\":0,\"ticks\":\"\"}},\"type\":\"scattergeo\"}],\"scattergl\":[{\"marker\":{\"colorbar\":{\"outlinewidth\":0,\"ticks\":\"\"}},\"type\":\"scattergl\"}],\"scattermapbox\":[{\"marker\":{\"colorbar\":{\"outlinewidth\":0,\"ticks\":\"\"}},\"type\":\"scattermapbox\"}],\"scatterpolar\":[{\"marker\":{\"colorbar\":{\"outlinewidth\":0,\"ticks\":\"\"}},\"type\":\"scatterpolar\"}],\"scatterpolargl\":[{\"marker\":{\"colorbar\":{\"outlinewidth\":0,\"ticks\":\"\"}},\"type\":\"scatterpolargl\"}],\"scatterternary\":[{\"marker\":{\"colorbar\":{\"outlinewidth\":0,\"ticks\":\"\"}},\"type\":\"scatterternary\"}],\"surface\":[{\"colorbar\":{\"outlinewidth\":0,\"ticks\":\"\"},\"colorscale\":[[0.0,\"#0d0887\"],[0.1111111111111111,\"#46039f\"],[0.2222222222222222,\"#7201a8\"],[0.3333333333333333,\"#9c179e\"],[0.4444444444444444,\"#bd3786\"],[0.5555555555555556,\"#d8576b\"],[0.6666666666666666,\"#ed7953\"],[0.7777777777777778,\"#fb9f3a\"],[0.8888888888888888,\"#fdca26\"],[1.0,\"#f0f921\"]],\"type\":\"surface\"}],\"table\":[{\"cells\":{\"fill\":{\"color\":\"#EBF0F8\"},\"line\":{\"color\":\"white\"}},\"header\":{\"fill\":{\"color\":\"#C8D4E3\"},\"line\":{\"color\":\"white\"}},\"type\":\"table\"}]},\"layout\":{\"annotationdefaults\":{\"arrowcolor\":\"#2a3f5f\",\"arrowhead\":0,\"arrowwidth\":1},\"autotypenumbers\":\"strict\",\"coloraxis\":{\"colorbar\":{\"outlinewidth\":0,\"ticks\":\"\"}},\"colorscale\":{\"diverging\":[[0,\"#8e0152\"],[0.1,\"#c51b7d\"],[0.2,\"#de77ae\"],[0.3,\"#f1b6da\"],[0.4,\"#fde0ef\"],[0.5,\"#f7f7f7\"],[0.6,\"#e6f5d0\"],[0.7,\"#b8e186\"],[0.8,\"#7fbc41\"],[0.9,\"#4d9221\"],[1,\"#276419\"]],\"sequential\":[[0.0,\"#0d0887\"],[0.1111111111111111,\"#46039f\"],[0.2222222222222222,\"#7201a8\"],[0.3333333333333333,\"#9c179e\"],[0.4444444444444444,\"#bd3786\"],[0.5555555555555556,\"#d8576b\"],[0.6666666666666666,\"#ed7953\"],[0.7777777777777778,\"#fb9f3a\"],[0.8888888888888888,\"#fdca26\"],[1.0,\"#f0f921\"]],\"sequentialminus\":[[0.0,\"#0d0887\"],[0.1111111111111111,\"#46039f\"],[0.2222222222222222,\"#7201a8\"],[0.3333333333333333,\"#9c179e\"],[0.4444444444444444,\"#bd3786\"],[0.5555555555555556,\"#d8576b\"],[0.6666666666666666,\"#ed7953\"],[0.7777777777777778,\"#fb9f3a\"],[0.8888888888888888,\"#fdca26\"],[1.0,\"#f0f921\"]]},\"colorway\":[\"#636efa\",\"#EF553B\",\"#00cc96\",\"#ab63fa\",\"#FFA15A\",\"#19d3f3\",\"#FF6692\",\"#B6E880\",\"#FF97FF\",\"#FECB52\"],\"font\":{\"color\":\"#2a3f5f\"},\"geo\":{\"bgcolor\":\"white\",\"lakecolor\":\"white\",\"landcolor\":\"#E5ECF6\",\"showlakes\":true,\"showland\":true,\"subunitcolor\":\"white\"},\"hoverlabel\":{\"align\":\"left\"},\"hovermode\":\"closest\",\"mapbox\":{\"style\":\"light\"},\"paper_bgcolor\":\"white\",\"plot_bgcolor\":\"#E5ECF6\",\"polar\":{\"angularaxis\":{\"gridcolor\":\"white\",\"linecolor\":\"white\",\"ticks\":\"\"},\"bgcolor\":\"#E5ECF6\",\"radialaxis\":{\"gridcolor\":\"white\",\"linecolor\":\"white\",\"ticks\":\"\"}},\"scene\":{\"xaxis\":{\"backgroundcolor\":\"#E5ECF6\",\"gridcolor\":\"white\",\"gridwidth\":2,\"linecolor\":\"white\",\"showbackground\":true,\"ticks\":\"\",\"zerolinecolor\":\"white\"},\"yaxis\":{\"backgroundcolor\":\"#E5ECF6\",\"gridcolor\":\"white\",\"gridwidth\":2,\"linecolor\":\"white\",\"showbackground\":true,\"ticks\":\"\",\"zerolinecolor\":\"white\"},\"zaxis\":{\"backgroundcolor\":\"#E5ECF6\",\"gridcolor\":\"white\",\"gridwidth\":2,\"linecolor\":\"white\",\"showbackground\":true,\"ticks\":\"\",\"zerolinecolor\":\"white\"}},\"shapedefaults\":{\"line\":{\"color\":\"#2a3f5f\"}},\"ternary\":{\"aaxis\":{\"gridcolor\":\"white\",\"linecolor\":\"white\",\"ticks\":\"\"},\"baxis\":{\"gridcolor\":\"white\",\"linecolor\":\"white\",\"ticks\":\"\"},\"bgcolor\":\"#E5ECF6\",\"caxis\":{\"gridcolor\":\"white\",\"linecolor\":\"white\",\"ticks\":\"\"}},\"title\":{\"x\":0.05},\"xaxis\":{\"automargin\":true,\"gridcolor\":\"white\",\"linecolor\":\"white\",\"ticks\":\"\",\"title\":{\"standoff\":15},\"zerolinecolor\":\"white\",\"zerolinewidth\":2},\"yaxis\":{\"automargin\":true,\"gridcolor\":\"white\",\"linecolor\":\"white\",\"ticks\":\"\",\"title\":{\"standoff\":15},\"zerolinecolor\":\"white\",\"zerolinewidth\":2}}},\"legend\":{\"tracegroupgap\":0},\"margin\":{\"t\":60},\"title\":{\"text\":\"Pie Chart of Sentiment Feature\"}},                        {\"responsive\": true}                    ).then(function(){\n",
              "                            \n",
              "var gd = document.getElementById('d7219efc-eff5-4774-be67-5310470b46b4');\n",
              "var x = new MutationObserver(function (mutations, observer) {{\n",
              "        var display = window.getComputedStyle(gd).display;\n",
              "        if (!display || display === 'none') {{\n",
              "            console.log([gd, 'removed!']);\n",
              "            Plotly.purge(gd);\n",
              "            observer.disconnect();\n",
              "        }}\n",
              "}});\n",
              "\n",
              "// Listen for the removal of the full notebook cells\n",
              "var notebookContainer = gd.closest('#notebook-container');\n",
              "if (notebookContainer) {{\n",
              "    x.observe(notebookContainer, {childList: true});\n",
              "}}\n",
              "\n",
              "// Listen for the clearing of the current output cell\n",
              "var outputEl = gd.closest('.output');\n",
              "if (outputEl) {{\n",
              "    x.observe(outputEl, {childList: true});\n",
              "}}\n",
              "\n",
              "                        })                };                            </script>        </div>\n",
              "</body>\n",
              "</html>"
            ]
          },
          "metadata": {}
        }
      ]
    },
    {
      "cell_type": "code",
      "source": [
        "data.info()"
      ],
      "metadata": {
        "colab": {
          "base_uri": "https://localhost:8080/"
        },
        "id": "uqCyz9SnJBu4",
        "outputId": "b0e21a3f-2015-4e7b-c74b-d5370bb21153"
      },
      "execution_count": 62,
      "outputs": [
        {
          "output_type": "stream",
          "name": "stdout",
          "text": [
            "<class 'pandas.core.frame.DataFrame'>\n",
            "RangeIndex: 123 entries, 0 to 122\n",
            "Data columns (total 2 columns):\n",
            " #   Column  Non-Null Count  Dtype \n",
            "---  ------  --------------  ----- \n",
            " 0   tweet   123 non-null    object\n",
            " 1   label   123 non-null    int64 \n",
            "dtypes: int64(1), object(1)\n",
            "memory usage: 2.0+ KB\n"
          ]
        }
      ]
    },
    {
      "cell_type": "markdown",
      "source": [
        "# 2. Data Preprocessing"
      ],
      "metadata": {
        "id": "qqFCUPvUJHP-"
      }
    },
    {
      "cell_type": "code",
      "source": [
        "!pip install clean-text"
      ],
      "metadata": {
        "id": "KaJZURrtQcgx",
        "colab": {
          "base_uri": "https://localhost:8080/"
        },
        "outputId": "50b6d4bc-99a0-48ca-c11e-2a140062f89f"
      },
      "execution_count": 63,
      "outputs": [
        {
          "output_type": "stream",
          "name": "stdout",
          "text": [
            "Looking in indexes: https://pypi.org/simple, https://us-python.pkg.dev/colab-wheels/public/simple/\n",
            "Requirement already satisfied: clean-text in /usr/local/lib/python3.7/dist-packages (0.6.0)\n",
            "Requirement already satisfied: emoji<2.0.0,>=1.0.0 in /usr/local/lib/python3.7/dist-packages (from clean-text) (1.7.0)\n",
            "Requirement already satisfied: ftfy<7.0,>=6.0 in /usr/local/lib/python3.7/dist-packages (from clean-text) (6.1.1)\n",
            "Requirement already satisfied: wcwidth>=0.2.5 in /usr/local/lib/python3.7/dist-packages (from ftfy<7.0,>=6.0->clean-text) (0.2.5)\n"
          ]
        }
      ]
    },
    {
      "cell_type": "code",
      "source": [
        "import re\n",
        "from cleantext import clean"
      ],
      "metadata": {
        "id": "4uC_CvHSJJ-V"
      },
      "execution_count": 64,
      "outputs": []
    },
    {
      "cell_type": "code",
      "source": [
        "#Preprocessing functions\n",
        "\n",
        "def remove_links(tweet):\n",
        "    \"\"\"Takes a string and removes web links from it\"\"\"\n",
        "    tweet = re.sub(r'http\\S+', '', tweet)   # remove http links\n",
        "    tweet = re.sub(r'bit.ly/\\S+', '', tweet)  # remove bitly links\n",
        "    tweet = tweet.strip('[link]')   # remove [links]\n",
        "    tweet = re.sub(r'pic.twitter\\S+','', tweet)\n",
        "    return tweet\n",
        "\n",
        "def remove_users(tweet):\n",
        "    \"\"\"Takes a string and removes retweet and @user information\"\"\"\n",
        "    tweet = re.sub('(RT\\s@[A-Za-z]+[A-Za-z0-9-_]+)', '', tweet)  # remove re-tweet\n",
        "    tweet = re.sub('(@[A-Za-z]+[A-Za-z0-9-_]+)', '', tweet)  # remove tweeted at\n",
        "    return tweet\n",
        "\n",
        "def remove_hashtags(tweet):\n",
        "    \"\"\"Takes a string and removes any hash tags\"\"\"\n",
        "    tweet = re.sub('(#[A-Za-z]+[A-Za-z0-9-_]+)', '', tweet)  # remove hash tags\n",
        "    return tweet\n",
        "\n",
        "def remove_av(tweet):\n",
        "    \"\"\"Takes a string and removes AUDIO/VIDEO tags or labels\"\"\"\n",
        "    tweet = re.sub('VIDEO:', '', tweet)  # remove 'VIDEO:' from start of tweet\n",
        "    tweet = re.sub('AUDIO:', '', tweet)  # remove 'AUDIO:' from start of tweet\n",
        "    return tweet\n",
        "\n",
        "def remove_emoji(tweet):\n",
        "    \"\"\"Remove emojis\"\"\"\n",
        "    tweet = clean(tweet, no_emoji=True) \n",
        "    return tweet\n",
        "\n",
        "def remove_punctuation(tweet):\n",
        "    tweet = re.sub(r'[^\\w\\s]', '', tweet)\n",
        "    tweet = re.sub(\"(?<!\\n)\\n(?!\\n)\", \" \", tweet)\n",
        "    tweet = re.sub(\"\\n\",\" \", tweet)\n",
        "    tweet = tweet.strip(\" \\n\")\n",
        "    return tweet\n",
        "\n",
        "def preprocessing(text):\n",
        "    text = remove_links(text)\n",
        "    text = remove_users(text)\n",
        "    text = remove_hashtags(text)\n",
        "    text = remove_av(text)\n",
        "    text = remove_emoji(text)\n",
        "    text = remove_punctuation(text)\n",
        "    return text"
      ],
      "metadata": {
        "id": "eRUImRAyQlJ1"
      },
      "execution_count": 65,
      "outputs": []
    },
    {
      "cell_type": "code",
      "source": [
        "data_prep = data.copy()"
      ],
      "metadata": {
        "id": "yJmC2GtBR6ZM"
      },
      "execution_count": 66,
      "outputs": []
    },
    {
      "cell_type": "code",
      "source": [
        "data_prep['tweet'] = data_prep['tweet'].apply(preprocessing)"
      ],
      "metadata": {
        "id": "j25Cs30iRwjd"
      },
      "execution_count": 67,
      "outputs": []
    },
    {
      "cell_type": "code",
      "source": [
        "data_prep.head(15)"
      ],
      "metadata": {
        "colab": {
          "base_uri": "https://localhost:8080/",
          "height": 520
        },
        "id": "Yx1reLH5Xfuq",
        "outputId": "6f1b59cf-b37c-47b1-ed58-303e28e5f2b5"
      },
      "execution_count": 68,
      "outputs": [
        {
          "output_type": "execute_result",
          "data": {
            "text/plain": [
              "                                                tweet  label\n",
              "0   volvi a ver  a fico aunque siento que desaprov...      1\n",
              "1   una vez se van las democracias no retornan mir...      1\n",
              "2   se necesitan mas liderazgos femeninos para el ...      1\n",
              "3   acter me gusta dialogar con respeto y aqui hay...      1\n",
              "4   en sale de nuevo fico gutierrez con el cuento ...      0\n",
              "5   que desespero oir a fico es desastroso que niv...      0\n",
              "6   federico gutierrez si hubo fraude fue a favor ...      0\n",
              "7   propone para la salud basarse en promocion y p...      1\n",
              "8   le asegura a los 18 millones de colombianos qu...      1\n",
              "9   a proposito  los invito a leer este hilo donde...      0\n",
              "10  acter garantizara seguridad alimentaria para n...      1\n",
              "11  federico gutierrez tambien miente descaradamen...      0\n",
              "12  fico demostro sus buena intencion en las propu...      1\n",
              "13                                                         1\n",
              "14                                                         1"
            ],
            "text/html": [
              "\n",
              "  <div id=\"df-81e354ca-9f97-44cb-b206-5a0f4038c4c3\">\n",
              "    <div class=\"colab-df-container\">\n",
              "      <div>\n",
              "<style scoped>\n",
              "    .dataframe tbody tr th:only-of-type {\n",
              "        vertical-align: middle;\n",
              "    }\n",
              "\n",
              "    .dataframe tbody tr th {\n",
              "        vertical-align: top;\n",
              "    }\n",
              "\n",
              "    .dataframe thead th {\n",
              "        text-align: right;\n",
              "    }\n",
              "</style>\n",
              "<table border=\"1\" class=\"dataframe\">\n",
              "  <thead>\n",
              "    <tr style=\"text-align: right;\">\n",
              "      <th></th>\n",
              "      <th>tweet</th>\n",
              "      <th>label</th>\n",
              "    </tr>\n",
              "  </thead>\n",
              "  <tbody>\n",
              "    <tr>\n",
              "      <th>0</th>\n",
              "      <td>volvi a ver  a fico aunque siento que desaprov...</td>\n",
              "      <td>1</td>\n",
              "    </tr>\n",
              "    <tr>\n",
              "      <th>1</th>\n",
              "      <td>una vez se van las democracias no retornan mir...</td>\n",
              "      <td>1</td>\n",
              "    </tr>\n",
              "    <tr>\n",
              "      <th>2</th>\n",
              "      <td>se necesitan mas liderazgos femeninos para el ...</td>\n",
              "      <td>1</td>\n",
              "    </tr>\n",
              "    <tr>\n",
              "      <th>3</th>\n",
              "      <td>acter me gusta dialogar con respeto y aqui hay...</td>\n",
              "      <td>1</td>\n",
              "    </tr>\n",
              "    <tr>\n",
              "      <th>4</th>\n",
              "      <td>en sale de nuevo fico gutierrez con el cuento ...</td>\n",
              "      <td>0</td>\n",
              "    </tr>\n",
              "    <tr>\n",
              "      <th>5</th>\n",
              "      <td>que desespero oir a fico es desastroso que niv...</td>\n",
              "      <td>0</td>\n",
              "    </tr>\n",
              "    <tr>\n",
              "      <th>6</th>\n",
              "      <td>federico gutierrez si hubo fraude fue a favor ...</td>\n",
              "      <td>0</td>\n",
              "    </tr>\n",
              "    <tr>\n",
              "      <th>7</th>\n",
              "      <td>propone para la salud basarse en promocion y p...</td>\n",
              "      <td>1</td>\n",
              "    </tr>\n",
              "    <tr>\n",
              "      <th>8</th>\n",
              "      <td>le asegura a los 18 millones de colombianos qu...</td>\n",
              "      <td>1</td>\n",
              "    </tr>\n",
              "    <tr>\n",
              "      <th>9</th>\n",
              "      <td>a proposito  los invito a leer este hilo donde...</td>\n",
              "      <td>0</td>\n",
              "    </tr>\n",
              "    <tr>\n",
              "      <th>10</th>\n",
              "      <td>acter garantizara seguridad alimentaria para n...</td>\n",
              "      <td>1</td>\n",
              "    </tr>\n",
              "    <tr>\n",
              "      <th>11</th>\n",
              "      <td>federico gutierrez tambien miente descaradamen...</td>\n",
              "      <td>0</td>\n",
              "    </tr>\n",
              "    <tr>\n",
              "      <th>12</th>\n",
              "      <td>fico demostro sus buena intencion en las propu...</td>\n",
              "      <td>1</td>\n",
              "    </tr>\n",
              "    <tr>\n",
              "      <th>13</th>\n",
              "      <td></td>\n",
              "      <td>1</td>\n",
              "    </tr>\n",
              "    <tr>\n",
              "      <th>14</th>\n",
              "      <td></td>\n",
              "      <td>1</td>\n",
              "    </tr>\n",
              "  </tbody>\n",
              "</table>\n",
              "</div>\n",
              "      <button class=\"colab-df-convert\" onclick=\"convertToInteractive('df-81e354ca-9f97-44cb-b206-5a0f4038c4c3')\"\n",
              "              title=\"Convert this dataframe to an interactive table.\"\n",
              "              style=\"display:none;\">\n",
              "        \n",
              "  <svg xmlns=\"http://www.w3.org/2000/svg\" height=\"24px\"viewBox=\"0 0 24 24\"\n",
              "       width=\"24px\">\n",
              "    <path d=\"M0 0h24v24H0V0z\" fill=\"none\"/>\n",
              "    <path d=\"M18.56 5.44l.94 2.06.94-2.06 2.06-.94-2.06-.94-.94-2.06-.94 2.06-2.06.94zm-11 1L8.5 8.5l.94-2.06 2.06-.94-2.06-.94L8.5 2.5l-.94 2.06-2.06.94zm10 10l.94 2.06.94-2.06 2.06-.94-2.06-.94-.94-2.06-.94 2.06-2.06.94z\"/><path d=\"M17.41 7.96l-1.37-1.37c-.4-.4-.92-.59-1.43-.59-.52 0-1.04.2-1.43.59L10.3 9.45l-7.72 7.72c-.78.78-.78 2.05 0 2.83L4 21.41c.39.39.9.59 1.41.59.51 0 1.02-.2 1.41-.59l7.78-7.78 2.81-2.81c.8-.78.8-2.07 0-2.86zM5.41 20L4 18.59l7.72-7.72 1.47 1.35L5.41 20z\"/>\n",
              "  </svg>\n",
              "      </button>\n",
              "      \n",
              "  <style>\n",
              "    .colab-df-container {\n",
              "      display:flex;\n",
              "      flex-wrap:wrap;\n",
              "      gap: 12px;\n",
              "    }\n",
              "\n",
              "    .colab-df-convert {\n",
              "      background-color: #E8F0FE;\n",
              "      border: none;\n",
              "      border-radius: 50%;\n",
              "      cursor: pointer;\n",
              "      display: none;\n",
              "      fill: #1967D2;\n",
              "      height: 32px;\n",
              "      padding: 0 0 0 0;\n",
              "      width: 32px;\n",
              "    }\n",
              "\n",
              "    .colab-df-convert:hover {\n",
              "      background-color: #E2EBFA;\n",
              "      box-shadow: 0px 1px 2px rgba(60, 64, 67, 0.3), 0px 1px 3px 1px rgba(60, 64, 67, 0.15);\n",
              "      fill: #174EA6;\n",
              "    }\n",
              "\n",
              "    [theme=dark] .colab-df-convert {\n",
              "      background-color: #3B4455;\n",
              "      fill: #D2E3FC;\n",
              "    }\n",
              "\n",
              "    [theme=dark] .colab-df-convert:hover {\n",
              "      background-color: #434B5C;\n",
              "      box-shadow: 0px 1px 3px 1px rgba(0, 0, 0, 0.15);\n",
              "      filter: drop-shadow(0px 1px 2px rgba(0, 0, 0, 0.3));\n",
              "      fill: #FFFFFF;\n",
              "    }\n",
              "  </style>\n",
              "\n",
              "      <script>\n",
              "        const buttonEl =\n",
              "          document.querySelector('#df-81e354ca-9f97-44cb-b206-5a0f4038c4c3 button.colab-df-convert');\n",
              "        buttonEl.style.display =\n",
              "          google.colab.kernel.accessAllowed ? 'block' : 'none';\n",
              "\n",
              "        async function convertToInteractive(key) {\n",
              "          const element = document.querySelector('#df-81e354ca-9f97-44cb-b206-5a0f4038c4c3');\n",
              "          const dataTable =\n",
              "            await google.colab.kernel.invokeFunction('convertToInteractive',\n",
              "                                                     [key], {});\n",
              "          if (!dataTable) return;\n",
              "\n",
              "          const docLinkHtml = 'Like what you see? Visit the ' +\n",
              "            '<a target=\"_blank\" href=https://colab.research.google.com/notebooks/data_table.ipynb>data table notebook</a>'\n",
              "            + ' to learn more about interactive tables.';\n",
              "          element.innerHTML = '';\n",
              "          dataTable['output_type'] = 'display_data';\n",
              "          await google.colab.output.renderOutput(dataTable, element);\n",
              "          const docLink = document.createElement('div');\n",
              "          docLink.innerHTML = docLinkHtml;\n",
              "          element.appendChild(docLink);\n",
              "        }\n",
              "      </script>\n",
              "    </div>\n",
              "  </div>\n",
              "  "
            ]
          },
          "metadata": {},
          "execution_count": 68
        }
      ]
    },
    {
      "cell_type": "code",
      "source": [
        "data_prep.info()"
      ],
      "metadata": {
        "colab": {
          "base_uri": "https://localhost:8080/"
        },
        "id": "RjVMXzWMd8OJ",
        "outputId": "64c56cd8-40c8-44ec-fa9a-dd624bc00014"
      },
      "execution_count": 69,
      "outputs": [
        {
          "output_type": "stream",
          "name": "stdout",
          "text": [
            "<class 'pandas.core.frame.DataFrame'>\n",
            "RangeIndex: 123 entries, 0 to 122\n",
            "Data columns (total 2 columns):\n",
            " #   Column  Non-Null Count  Dtype \n",
            "---  ------  --------------  ----- \n",
            " 0   tweet   123 non-null    object\n",
            " 1   label   123 non-null    int64 \n",
            "dtypes: int64(1), object(1)\n",
            "memory usage: 2.0+ KB\n"
          ]
        }
      ]
    },
    {
      "cell_type": "code",
      "source": [
        "data_prep['tweet'].replace('', np.nan, inplace=True)"
      ],
      "metadata": {
        "id": "y_8POeQdeFeA"
      },
      "execution_count": 70,
      "outputs": []
    },
    {
      "cell_type": "code",
      "source": [
        "data_prep.head(15)"
      ],
      "metadata": {
        "colab": {
          "base_uri": "https://localhost:8080/",
          "height": 520
        },
        "id": "4H8HlQsUeSb0",
        "outputId": "b4101a08-8d59-4502-9f4e-2e58e3bb866a"
      },
      "execution_count": 71,
      "outputs": [
        {
          "output_type": "execute_result",
          "data": {
            "text/plain": [
              "                                                tweet  label\n",
              "0   volvi a ver  a fico aunque siento que desaprov...      1\n",
              "1   una vez se van las democracias no retornan mir...      1\n",
              "2   se necesitan mas liderazgos femeninos para el ...      1\n",
              "3   acter me gusta dialogar con respeto y aqui hay...      1\n",
              "4   en sale de nuevo fico gutierrez con el cuento ...      0\n",
              "5   que desespero oir a fico es desastroso que niv...      0\n",
              "6   federico gutierrez si hubo fraude fue a favor ...      0\n",
              "7   propone para la salud basarse en promocion y p...      1\n",
              "8   le asegura a los 18 millones de colombianos qu...      1\n",
              "9   a proposito  los invito a leer este hilo donde...      0\n",
              "10  acter garantizara seguridad alimentaria para n...      1\n",
              "11  federico gutierrez tambien miente descaradamen...      0\n",
              "12  fico demostro sus buena intencion en las propu...      1\n",
              "13                                                NaN      1\n",
              "14                                                NaN      1"
            ],
            "text/html": [
              "\n",
              "  <div id=\"df-ca20bb91-801b-4fba-9aef-fc81e1436998\">\n",
              "    <div class=\"colab-df-container\">\n",
              "      <div>\n",
              "<style scoped>\n",
              "    .dataframe tbody tr th:only-of-type {\n",
              "        vertical-align: middle;\n",
              "    }\n",
              "\n",
              "    .dataframe tbody tr th {\n",
              "        vertical-align: top;\n",
              "    }\n",
              "\n",
              "    .dataframe thead th {\n",
              "        text-align: right;\n",
              "    }\n",
              "</style>\n",
              "<table border=\"1\" class=\"dataframe\">\n",
              "  <thead>\n",
              "    <tr style=\"text-align: right;\">\n",
              "      <th></th>\n",
              "      <th>tweet</th>\n",
              "      <th>label</th>\n",
              "    </tr>\n",
              "  </thead>\n",
              "  <tbody>\n",
              "    <tr>\n",
              "      <th>0</th>\n",
              "      <td>volvi a ver  a fico aunque siento que desaprov...</td>\n",
              "      <td>1</td>\n",
              "    </tr>\n",
              "    <tr>\n",
              "      <th>1</th>\n",
              "      <td>una vez se van las democracias no retornan mir...</td>\n",
              "      <td>1</td>\n",
              "    </tr>\n",
              "    <tr>\n",
              "      <th>2</th>\n",
              "      <td>se necesitan mas liderazgos femeninos para el ...</td>\n",
              "      <td>1</td>\n",
              "    </tr>\n",
              "    <tr>\n",
              "      <th>3</th>\n",
              "      <td>acter me gusta dialogar con respeto y aqui hay...</td>\n",
              "      <td>1</td>\n",
              "    </tr>\n",
              "    <tr>\n",
              "      <th>4</th>\n",
              "      <td>en sale de nuevo fico gutierrez con el cuento ...</td>\n",
              "      <td>0</td>\n",
              "    </tr>\n",
              "    <tr>\n",
              "      <th>5</th>\n",
              "      <td>que desespero oir a fico es desastroso que niv...</td>\n",
              "      <td>0</td>\n",
              "    </tr>\n",
              "    <tr>\n",
              "      <th>6</th>\n",
              "      <td>federico gutierrez si hubo fraude fue a favor ...</td>\n",
              "      <td>0</td>\n",
              "    </tr>\n",
              "    <tr>\n",
              "      <th>7</th>\n",
              "      <td>propone para la salud basarse en promocion y p...</td>\n",
              "      <td>1</td>\n",
              "    </tr>\n",
              "    <tr>\n",
              "      <th>8</th>\n",
              "      <td>le asegura a los 18 millones de colombianos qu...</td>\n",
              "      <td>1</td>\n",
              "    </tr>\n",
              "    <tr>\n",
              "      <th>9</th>\n",
              "      <td>a proposito  los invito a leer este hilo donde...</td>\n",
              "      <td>0</td>\n",
              "    </tr>\n",
              "    <tr>\n",
              "      <th>10</th>\n",
              "      <td>acter garantizara seguridad alimentaria para n...</td>\n",
              "      <td>1</td>\n",
              "    </tr>\n",
              "    <tr>\n",
              "      <th>11</th>\n",
              "      <td>federico gutierrez tambien miente descaradamen...</td>\n",
              "      <td>0</td>\n",
              "    </tr>\n",
              "    <tr>\n",
              "      <th>12</th>\n",
              "      <td>fico demostro sus buena intencion en las propu...</td>\n",
              "      <td>1</td>\n",
              "    </tr>\n",
              "    <tr>\n",
              "      <th>13</th>\n",
              "      <td>NaN</td>\n",
              "      <td>1</td>\n",
              "    </tr>\n",
              "    <tr>\n",
              "      <th>14</th>\n",
              "      <td>NaN</td>\n",
              "      <td>1</td>\n",
              "    </tr>\n",
              "  </tbody>\n",
              "</table>\n",
              "</div>\n",
              "      <button class=\"colab-df-convert\" onclick=\"convertToInteractive('df-ca20bb91-801b-4fba-9aef-fc81e1436998')\"\n",
              "              title=\"Convert this dataframe to an interactive table.\"\n",
              "              style=\"display:none;\">\n",
              "        \n",
              "  <svg xmlns=\"http://www.w3.org/2000/svg\" height=\"24px\"viewBox=\"0 0 24 24\"\n",
              "       width=\"24px\">\n",
              "    <path d=\"M0 0h24v24H0V0z\" fill=\"none\"/>\n",
              "    <path d=\"M18.56 5.44l.94 2.06.94-2.06 2.06-.94-2.06-.94-.94-2.06-.94 2.06-2.06.94zm-11 1L8.5 8.5l.94-2.06 2.06-.94-2.06-.94L8.5 2.5l-.94 2.06-2.06.94zm10 10l.94 2.06.94-2.06 2.06-.94-2.06-.94-.94-2.06-.94 2.06-2.06.94z\"/><path d=\"M17.41 7.96l-1.37-1.37c-.4-.4-.92-.59-1.43-.59-.52 0-1.04.2-1.43.59L10.3 9.45l-7.72 7.72c-.78.78-.78 2.05 0 2.83L4 21.41c.39.39.9.59 1.41.59.51 0 1.02-.2 1.41-.59l7.78-7.78 2.81-2.81c.8-.78.8-2.07 0-2.86zM5.41 20L4 18.59l7.72-7.72 1.47 1.35L5.41 20z\"/>\n",
              "  </svg>\n",
              "      </button>\n",
              "      \n",
              "  <style>\n",
              "    .colab-df-container {\n",
              "      display:flex;\n",
              "      flex-wrap:wrap;\n",
              "      gap: 12px;\n",
              "    }\n",
              "\n",
              "    .colab-df-convert {\n",
              "      background-color: #E8F0FE;\n",
              "      border: none;\n",
              "      border-radius: 50%;\n",
              "      cursor: pointer;\n",
              "      display: none;\n",
              "      fill: #1967D2;\n",
              "      height: 32px;\n",
              "      padding: 0 0 0 0;\n",
              "      width: 32px;\n",
              "    }\n",
              "\n",
              "    .colab-df-convert:hover {\n",
              "      background-color: #E2EBFA;\n",
              "      box-shadow: 0px 1px 2px rgba(60, 64, 67, 0.3), 0px 1px 3px 1px rgba(60, 64, 67, 0.15);\n",
              "      fill: #174EA6;\n",
              "    }\n",
              "\n",
              "    [theme=dark] .colab-df-convert {\n",
              "      background-color: #3B4455;\n",
              "      fill: #D2E3FC;\n",
              "    }\n",
              "\n",
              "    [theme=dark] .colab-df-convert:hover {\n",
              "      background-color: #434B5C;\n",
              "      box-shadow: 0px 1px 3px 1px rgba(0, 0, 0, 0.15);\n",
              "      filter: drop-shadow(0px 1px 2px rgba(0, 0, 0, 0.3));\n",
              "      fill: #FFFFFF;\n",
              "    }\n",
              "  </style>\n",
              "\n",
              "      <script>\n",
              "        const buttonEl =\n",
              "          document.querySelector('#df-ca20bb91-801b-4fba-9aef-fc81e1436998 button.colab-df-convert');\n",
              "        buttonEl.style.display =\n",
              "          google.colab.kernel.accessAllowed ? 'block' : 'none';\n",
              "\n",
              "        async function convertToInteractive(key) {\n",
              "          const element = document.querySelector('#df-ca20bb91-801b-4fba-9aef-fc81e1436998');\n",
              "          const dataTable =\n",
              "            await google.colab.kernel.invokeFunction('convertToInteractive',\n",
              "                                                     [key], {});\n",
              "          if (!dataTable) return;\n",
              "\n",
              "          const docLinkHtml = 'Like what you see? Visit the ' +\n",
              "            '<a target=\"_blank\" href=https://colab.research.google.com/notebooks/data_table.ipynb>data table notebook</a>'\n",
              "            + ' to learn more about interactive tables.';\n",
              "          element.innerHTML = '';\n",
              "          dataTable['output_type'] = 'display_data';\n",
              "          await google.colab.output.renderOutput(dataTable, element);\n",
              "          const docLink = document.createElement('div');\n",
              "          docLink.innerHTML = docLinkHtml;\n",
              "          element.appendChild(docLink);\n",
              "        }\n",
              "      </script>\n",
              "    </div>\n",
              "  </div>\n",
              "  "
            ]
          },
          "metadata": {},
          "execution_count": 71
        }
      ]
    },
    {
      "cell_type": "code",
      "source": [
        "data_prep = data_prep.dropna()\n",
        "data_prep.info()"
      ],
      "metadata": {
        "colab": {
          "base_uri": "https://localhost:8080/"
        },
        "id": "0lrN0BXteUqp",
        "outputId": "5b6cf356-8400-43d8-e027-5cd2a1030a79"
      },
      "execution_count": 72,
      "outputs": [
        {
          "output_type": "stream",
          "name": "stdout",
          "text": [
            "<class 'pandas.core.frame.DataFrame'>\n",
            "Int64Index: 117 entries, 0 to 122\n",
            "Data columns (total 2 columns):\n",
            " #   Column  Non-Null Count  Dtype \n",
            "---  ------  --------------  ----- \n",
            " 0   tweet   117 non-null    object\n",
            " 1   label   117 non-null    int64 \n",
            "dtypes: int64(1), object(1)\n",
            "memory usage: 2.7+ KB\n"
          ]
        }
      ]
    },
    {
      "cell_type": "markdown",
      "source": [
        "## 2.1 Train and validation samples"
      ],
      "metadata": {
        "id": "IazSp4VBfrrj"
      }
    },
    {
      "cell_type": "code",
      "source": [
        "X = data_prep['tweet']\n",
        "y = data_prep['label']\n",
        "\n",
        "# print(X.shape, y.shape)"
      ],
      "metadata": {
        "id": "cjthm8HCfqyb"
      },
      "execution_count": 474,
      "outputs": []
    },
    {
      "cell_type": "code",
      "source": [
        "from sklearn.model_selection import train_test_split\n",
        "\n",
        "X_train, X_valid, y_train, y_valid = train_test_split(X, y, test_size = 0.3, random_state=64)\n",
        "# print(X_train.shape, X_valid.shape, y_train.shape, y_valid.shape)"
      ],
      "metadata": {
        "id": "OHEScjtmgD0i"
      },
      "execution_count": 475,
      "outputs": []
    },
    {
      "cell_type": "markdown",
      "source": [
        "# 3. Modeling"
      ],
      "metadata": {
        "id": "ky-AVw0QiOgo"
      }
    },
    {
      "cell_type": "markdown",
      "source": [
        "## 3.1 Bidirectional LSTM"
      ],
      "metadata": {
        "id": "kiejH0ngIbhL"
      }
    },
    {
      "cell_type": "code",
      "source": [
        "from tensorflow.keras.layers import TextVectorization\n",
        "MAX_FEATURES = 200000 # number of words in the vocab\n",
        "vectorizer = TextVectorization(max_tokens=MAX_FEATURES,\n",
        "                               output_sequence_length=1800,\n",
        "                               output_mode='int')\n",
        "vectorizer.adapt(X_train.values)\n",
        "X_train_vectorized_text = vectorizer(X_train.values)\n",
        "X_valid_vectorized_text = vectorizer(X_valid.values)\n",
        "\n",
        "print(X_train_vectorized_text.shape, X_valid_vectorized_text.shape, y_train.shape, y_valid.shape)"
      ],
      "metadata": {
        "id": "WHria3xdF96a",
        "colab": {
          "base_uri": "https://localhost:8080/"
        },
        "outputId": "988c70d6-0c73-4c40-c2f9-af4ef539331f"
      },
      "execution_count": 476,
      "outputs": [
        {
          "output_type": "stream",
          "name": "stdout",
          "text": [
            "(81, 1800) (36, 1800) (81,) (36,)\n"
          ]
        }
      ]
    },
    {
      "cell_type": "code",
      "source": [
        "from tensorflow.keras.models import Sequential\n",
        "from tensorflow.keras.layers import LSTM, Bidirectional, Dense, Embedding, Dropout\n",
        "\n",
        "from tensorflow.keras.utils import plot_model\n",
        "\n",
        "from tensorflow.keras.callbacks import EarlyStopping\n",
        "\n",
        "early_stopping = EarlyStopping(\n",
        "    min_delta=0.001, # minimium amount of change to count as an improvement\n",
        "    patience=30, # how many epochs to wait before stopping\n",
        "    restore_best_weights=True,\n",
        ")"
      ],
      "metadata": {
        "id": "JwuR36ebGH0H"
      },
      "execution_count": 477,
      "outputs": []
    },
    {
      "cell_type": "code",
      "source": [
        "#Metrics\n",
        "\n",
        "from keras import backend as K\n",
        "import tensorflow as tf\n",
        "\n",
        "def recall_m(y_true, y_pred):\n",
        "    true_positives = K.sum(K.round(K.clip(y_true * y_pred, 0, 1)))\n",
        "    possible_positives = K.sum(K.round(K.clip(y_true, 0, 1)))\n",
        "    recall = true_positives / (possible_positives + K.epsilon())\n",
        "    return recall\n",
        "\n",
        "def precision_m(y_true, y_pred):\n",
        "    true_positives = K.sum(K.round(K.clip(y_true * y_pred, 0, 1)))\n",
        "    predicted_positives = K.sum(K.round(K.clip(y_pred, 0, 1)))\n",
        "    precision = true_positives / (predicted_positives + K.epsilon())\n",
        "    return precision\n",
        "\n",
        "def f1_m(y_true, y_pred):\n",
        "    precision = precision_m(y_true, y_pred)\n",
        "    recall = recall_m(y_true, y_pred)\n",
        "    return 2*((precision*recall)/(precision+recall+K.epsilon()))"
      ],
      "metadata": {
        "id": "VpzyHgtxmW-P"
      },
      "execution_count": 478,
      "outputs": []
    },
    {
      "cell_type": "code",
      "source": [
        "BiLSTM_model = Sequential()\n",
        "# Create the embedding layer \n",
        "BiLSTM_model.add(Embedding(MAX_FEATURES+1, 32))\n",
        "# Bidirectional LSTM Layer\n",
        "BiLSTM_model.add(Bidirectional(LSTM(32, activation='tanh')))\n",
        "BiLSTM_model.add(Dropout(0.3))\n",
        "# Feature extractor Fully connected layers\n",
        "BiLSTM_model.add(Dense(32, activation='relu'))\n",
        "BiLSTM_model.add(Dropout(0.3))\n",
        "# Final layer \n",
        "BiLSTM_model.add(Dense(1, activation='softmax'))\n",
        "BiLSTM_model.compile(loss='binary_crossentropy', \n",
        "                     optimizer=tf.keras.optimizers.Adam(learning_rate=5e-5, epsilon=1e-08, clipnorm=1.0), \n",
        "                     metrics=['binary_accuracy', recall_m, precision_m, f1_m])\n",
        "\n",
        "BiLSTM_history = BiLSTM_model.fit(X_train_vectorized_text,\n",
        "                    y_train,\n",
        "                    validation_data=(X_valid_vectorized_text, y_valid),\n",
        "                    epochs=100,\n",
        "                    callbacks=[early_stopping],\n",
        "                    )"
      ],
      "metadata": {
        "id": "QYqXy_-dmLlw",
        "colab": {
          "base_uri": "https://localhost:8080/"
        },
        "outputId": "a4fa2bdf-35b8-41d9-d55e-c54a326a81aa"
      },
      "execution_count": 479,
      "outputs": [
        {
          "output_type": "stream",
          "name": "stdout",
          "text": [
            "Epoch 1/100\n",
            "3/3 [==============================] - 5s 646ms/step - loss: 0.6943 - binary_accuracy: 0.6049 - recall_m: 1.0000 - precision_m: 0.6115 - f1_m: 0.7583 - val_loss: 0.6936 - val_binary_accuracy: 0.6944 - val_recall_m: 1.0000 - val_precision_m: 0.7188 - val_f1_m: 0.8360\n",
            "Epoch 2/100\n",
            "3/3 [==============================] - 0s 146ms/step - loss: 0.6940 - binary_accuracy: 0.6049 - recall_m: 1.0000 - precision_m: 0.6207 - f1_m: 0.7642 - val_loss: 0.6933 - val_binary_accuracy: 0.6944 - val_recall_m: 1.0000 - val_precision_m: 0.7188 - val_f1_m: 0.8360\n",
            "Epoch 3/100\n",
            "3/3 [==============================] - 0s 145ms/step - loss: 0.6936 - binary_accuracy: 0.6049 - recall_m: 1.0000 - precision_m: 0.6207 - f1_m: 0.7622 - val_loss: 0.6929 - val_binary_accuracy: 0.6944 - val_recall_m: 1.0000 - val_precision_m: 0.7188 - val_f1_m: 0.8360\n",
            "Epoch 4/100\n",
            "3/3 [==============================] - 0s 148ms/step - loss: 0.6934 - binary_accuracy: 0.6049 - recall_m: 1.0000 - precision_m: 0.6023 - f1_m: 0.7511 - val_loss: 0.6926 - val_binary_accuracy: 0.6944 - val_recall_m: 1.0000 - val_precision_m: 0.7188 - val_f1_m: 0.8360\n",
            "Epoch 5/100\n",
            "3/3 [==============================] - 0s 152ms/step - loss: 0.6916 - binary_accuracy: 0.6049 - recall_m: 1.0000 - precision_m: 0.6391 - f1_m: 0.7717 - val_loss: 0.6923 - val_binary_accuracy: 0.6944 - val_recall_m: 1.0000 - val_precision_m: 0.7188 - val_f1_m: 0.8360\n",
            "Epoch 6/100\n",
            "3/3 [==============================] - 0s 143ms/step - loss: 0.6913 - binary_accuracy: 0.6049 - recall_m: 1.0000 - precision_m: 0.5931 - f1_m: 0.7433 - val_loss: 0.6921 - val_binary_accuracy: 0.6944 - val_recall_m: 1.0000 - val_precision_m: 0.7188 - val_f1_m: 0.8360\n",
            "Epoch 7/100\n",
            "3/3 [==============================] - 0s 154ms/step - loss: 0.6925 - binary_accuracy: 0.6049 - recall_m: 1.0000 - precision_m: 0.5931 - f1_m: 0.7433 - val_loss: 0.6918 - val_binary_accuracy: 0.6944 - val_recall_m: 1.0000 - val_precision_m: 0.7188 - val_f1_m: 0.8360\n",
            "Epoch 8/100\n",
            "3/3 [==============================] - 0s 143ms/step - loss: 0.6913 - binary_accuracy: 0.6049 - recall_m: 1.0000 - precision_m: 0.6023 - f1_m: 0.7511 - val_loss: 0.6915 - val_binary_accuracy: 0.6944 - val_recall_m: 1.0000 - val_precision_m: 0.7188 - val_f1_m: 0.8360\n",
            "Epoch 9/100\n",
            "3/3 [==============================] - 0s 160ms/step - loss: 0.6927 - binary_accuracy: 0.6049 - recall_m: 1.0000 - precision_m: 0.6115 - f1_m: 0.7583 - val_loss: 0.6912 - val_binary_accuracy: 0.6944 - val_recall_m: 1.0000 - val_precision_m: 0.7188 - val_f1_m: 0.8360\n",
            "Epoch 10/100\n",
            "3/3 [==============================] - 0s 147ms/step - loss: 0.6916 - binary_accuracy: 0.6049 - recall_m: 1.0000 - precision_m: 0.6023 - f1_m: 0.7517 - val_loss: 0.6909 - val_binary_accuracy: 0.6944 - val_recall_m: 1.0000 - val_precision_m: 0.7188 - val_f1_m: 0.8360\n",
            "Epoch 11/100\n",
            "3/3 [==============================] - 0s 152ms/step - loss: 0.6919 - binary_accuracy: 0.6049 - recall_m: 1.0000 - precision_m: 0.6391 - f1_m: 0.7724 - val_loss: 0.6906 - val_binary_accuracy: 0.6944 - val_recall_m: 1.0000 - val_precision_m: 0.7188 - val_f1_m: 0.8360\n",
            "Epoch 12/100\n",
            "3/3 [==============================] - 0s 162ms/step - loss: 0.6928 - binary_accuracy: 0.6049 - recall_m: 1.0000 - precision_m: 0.6207 - f1_m: 0.7602 - val_loss: 0.6902 - val_binary_accuracy: 0.6944 - val_recall_m: 1.0000 - val_precision_m: 0.7188 - val_f1_m: 0.8360\n",
            "Epoch 13/100\n",
            "3/3 [==============================] - 0s 150ms/step - loss: 0.6920 - binary_accuracy: 0.6049 - recall_m: 1.0000 - precision_m: 0.6023 - f1_m: 0.7517 - val_loss: 0.6898 - val_binary_accuracy: 0.6944 - val_recall_m: 1.0000 - val_precision_m: 0.7188 - val_f1_m: 0.8360\n",
            "Epoch 14/100\n",
            "3/3 [==============================] - 0s 144ms/step - loss: 0.6908 - binary_accuracy: 0.6049 - recall_m: 1.0000 - precision_m: 0.6299 - f1_m: 0.7675 - val_loss: 0.6895 - val_binary_accuracy: 0.6944 - val_recall_m: 1.0000 - val_precision_m: 0.7188 - val_f1_m: 0.8360\n",
            "Epoch 15/100\n",
            "3/3 [==============================] - 0s 161ms/step - loss: 0.6924 - binary_accuracy: 0.6049 - recall_m: 1.0000 - precision_m: 0.5931 - f1_m: 0.7424 - val_loss: 0.6891 - val_binary_accuracy: 0.6944 - val_recall_m: 1.0000 - val_precision_m: 0.7188 - val_f1_m: 0.8360\n",
            "Epoch 16/100\n",
            "3/3 [==============================] - 0s 146ms/step - loss: 0.6905 - binary_accuracy: 0.6049 - recall_m: 1.0000 - precision_m: 0.5931 - f1_m: 0.7408 - val_loss: 0.6888 - val_binary_accuracy: 0.6944 - val_recall_m: 1.0000 - val_precision_m: 0.7188 - val_f1_m: 0.8360\n",
            "Epoch 17/100\n",
            "3/3 [==============================] - 0s 148ms/step - loss: 0.6921 - binary_accuracy: 0.6049 - recall_m: 1.0000 - precision_m: 0.6115 - f1_m: 0.7573 - val_loss: 0.6884 - val_binary_accuracy: 0.6944 - val_recall_m: 1.0000 - val_precision_m: 0.7188 - val_f1_m: 0.8360\n",
            "Epoch 18/100\n",
            "3/3 [==============================] - 0s 155ms/step - loss: 0.6902 - binary_accuracy: 0.6049 - recall_m: 1.0000 - precision_m: 0.5931 - f1_m: 0.7424 - val_loss: 0.6880 - val_binary_accuracy: 0.6944 - val_recall_m: 1.0000 - val_precision_m: 0.7188 - val_f1_m: 0.8360\n",
            "Epoch 19/100\n",
            "3/3 [==============================] - 0s 147ms/step - loss: 0.6906 - binary_accuracy: 0.6049 - recall_m: 1.0000 - precision_m: 0.5931 - f1_m: 0.7433 - val_loss: 0.6876 - val_binary_accuracy: 0.6944 - val_recall_m: 1.0000 - val_precision_m: 0.7188 - val_f1_m: 0.8360\n",
            "Epoch 20/100\n",
            "3/3 [==============================] - 0s 154ms/step - loss: 0.6909 - binary_accuracy: 0.6049 - recall_m: 1.0000 - precision_m: 0.6023 - f1_m: 0.7517 - val_loss: 0.6873 - val_binary_accuracy: 0.6944 - val_recall_m: 1.0000 - val_precision_m: 0.7188 - val_f1_m: 0.8360\n",
            "Epoch 21/100\n",
            "3/3 [==============================] - 0s 156ms/step - loss: 0.6896 - binary_accuracy: 0.6049 - recall_m: 1.0000 - precision_m: 0.5839 - f1_m: 0.7339 - val_loss: 0.6869 - val_binary_accuracy: 0.6944 - val_recall_m: 1.0000 - val_precision_m: 0.7188 - val_f1_m: 0.8360\n",
            "Epoch 22/100\n",
            "3/3 [==============================] - 0s 150ms/step - loss: 0.6875 - binary_accuracy: 0.6049 - recall_m: 1.0000 - precision_m: 0.6023 - f1_m: 0.7517 - val_loss: 0.6864 - val_binary_accuracy: 0.6944 - val_recall_m: 1.0000 - val_precision_m: 0.7188 - val_f1_m: 0.8360\n",
            "Epoch 23/100\n",
            "3/3 [==============================] - 0s 144ms/step - loss: 0.6894 - binary_accuracy: 0.6049 - recall_m: 1.0000 - precision_m: 0.5931 - f1_m: 0.7433 - val_loss: 0.6860 - val_binary_accuracy: 0.6944 - val_recall_m: 1.0000 - val_precision_m: 0.7188 - val_f1_m: 0.8360\n",
            "Epoch 24/100\n",
            "3/3 [==============================] - 0s 158ms/step - loss: 0.6886 - binary_accuracy: 0.6049 - recall_m: 1.0000 - precision_m: 0.6207 - f1_m: 0.7622 - val_loss: 0.6856 - val_binary_accuracy: 0.6944 - val_recall_m: 1.0000 - val_precision_m: 0.7188 - val_f1_m: 0.8360\n",
            "Epoch 25/100\n",
            "3/3 [==============================] - 0s 148ms/step - loss: 0.6902 - binary_accuracy: 0.6049 - recall_m: 1.0000 - precision_m: 0.6299 - f1_m: 0.7675 - val_loss: 0.6851 - val_binary_accuracy: 0.6944 - val_recall_m: 1.0000 - val_precision_m: 0.7188 - val_f1_m: 0.8360\n",
            "Epoch 26/100\n",
            "3/3 [==============================] - 0s 150ms/step - loss: 0.6892 - binary_accuracy: 0.6049 - recall_m: 1.0000 - precision_m: 0.6207 - f1_m: 0.7642 - val_loss: 0.6847 - val_binary_accuracy: 0.6944 - val_recall_m: 1.0000 - val_precision_m: 0.7188 - val_f1_m: 0.8360\n",
            "Epoch 27/100\n",
            "3/3 [==============================] - 0s 159ms/step - loss: 0.6870 - binary_accuracy: 0.6049 - recall_m: 1.0000 - precision_m: 0.6391 - f1_m: 0.7724 - val_loss: 0.6842 - val_binary_accuracy: 0.6944 - val_recall_m: 1.0000 - val_precision_m: 0.7188 - val_f1_m: 0.8360\n",
            "Epoch 28/100\n",
            "3/3 [==============================] - 0s 149ms/step - loss: 0.6855 - binary_accuracy: 0.6049 - recall_m: 1.0000 - precision_m: 0.6207 - f1_m: 0.7642 - val_loss: 0.6836 - val_binary_accuracy: 0.6944 - val_recall_m: 1.0000 - val_precision_m: 0.7188 - val_f1_m: 0.8360\n",
            "Epoch 29/100\n",
            "3/3 [==============================] - 0s 158ms/step - loss: 0.6871 - binary_accuracy: 0.6049 - recall_m: 1.0000 - precision_m: 0.6207 - f1_m: 0.7622 - val_loss: 0.6831 - val_binary_accuracy: 0.6944 - val_recall_m: 1.0000 - val_precision_m: 0.7188 - val_f1_m: 0.8360\n",
            "Epoch 30/100\n",
            "3/3 [==============================] - 0s 150ms/step - loss: 0.6882 - binary_accuracy: 0.6049 - recall_m: 1.0000 - precision_m: 0.6023 - f1_m: 0.7517 - val_loss: 0.6825 - val_binary_accuracy: 0.6944 - val_recall_m: 1.0000 - val_precision_m: 0.7188 - val_f1_m: 0.8360\n",
            "Epoch 31/100\n",
            "3/3 [==============================] - 0s 158ms/step - loss: 0.6863 - binary_accuracy: 0.6049 - recall_m: 1.0000 - precision_m: 0.6115 - f1_m: 0.7583 - val_loss: 0.6820 - val_binary_accuracy: 0.6944 - val_recall_m: 1.0000 - val_precision_m: 0.7188 - val_f1_m: 0.8360\n",
            "Epoch 32/100\n",
            "3/3 [==============================] - 0s 155ms/step - loss: 0.6851 - binary_accuracy: 0.6049 - recall_m: 1.0000 - precision_m: 0.6115 - f1_m: 0.7573 - val_loss: 0.6814 - val_binary_accuracy: 0.6944 - val_recall_m: 1.0000 - val_precision_m: 0.7188 - val_f1_m: 0.8360\n",
            "Epoch 33/100\n",
            "3/3 [==============================] - 0s 151ms/step - loss: 0.6866 - binary_accuracy: 0.6049 - recall_m: 1.0000 - precision_m: 0.5839 - f1_m: 0.7249 - val_loss: 0.6808 - val_binary_accuracy: 0.6944 - val_recall_m: 1.0000 - val_precision_m: 0.7188 - val_f1_m: 0.8360\n",
            "Epoch 34/100\n",
            "3/3 [==============================] - 0s 157ms/step - loss: 0.6856 - binary_accuracy: 0.6049 - recall_m: 1.0000 - precision_m: 0.5931 - f1_m: 0.7408 - val_loss: 0.6803 - val_binary_accuracy: 0.6944 - val_recall_m: 1.0000 - val_precision_m: 0.7188 - val_f1_m: 0.8360\n",
            "Epoch 35/100\n",
            "3/3 [==============================] - 0s 154ms/step - loss: 0.6832 - binary_accuracy: 0.6049 - recall_m: 1.0000 - precision_m: 0.6207 - f1_m: 0.7642 - val_loss: 0.6798 - val_binary_accuracy: 0.6944 - val_recall_m: 1.0000 - val_precision_m: 0.7188 - val_f1_m: 0.8360\n",
            "Epoch 36/100\n",
            "3/3 [==============================] - 0s 149ms/step - loss: 0.6836 - binary_accuracy: 0.6049 - recall_m: 1.0000 - precision_m: 0.5931 - f1_m: 0.7433 - val_loss: 0.6792 - val_binary_accuracy: 0.6944 - val_recall_m: 1.0000 - val_precision_m: 0.7188 - val_f1_m: 0.8360\n",
            "Epoch 37/100\n",
            "3/3 [==============================] - 0s 157ms/step - loss: 0.6825 - binary_accuracy: 0.6049 - recall_m: 1.0000 - precision_m: 0.6023 - f1_m: 0.7479 - val_loss: 0.6786 - val_binary_accuracy: 0.6944 - val_recall_m: 1.0000 - val_precision_m: 0.7188 - val_f1_m: 0.8360\n",
            "Epoch 38/100\n",
            "3/3 [==============================] - 0s 146ms/step - loss: 0.6855 - binary_accuracy: 0.6049 - recall_m: 1.0000 - precision_m: 0.6115 - f1_m: 0.7573 - val_loss: 0.6781 - val_binary_accuracy: 0.6944 - val_recall_m: 1.0000 - val_precision_m: 0.7188 - val_f1_m: 0.8360\n",
            "Epoch 39/100\n",
            "3/3 [==============================] - 0s 163ms/step - loss: 0.6820 - binary_accuracy: 0.6049 - recall_m: 1.0000 - precision_m: 0.5931 - f1_m: 0.7424 - val_loss: 0.6774 - val_binary_accuracy: 0.6944 - val_recall_m: 1.0000 - val_precision_m: 0.7188 - val_f1_m: 0.8360\n",
            "Epoch 40/100\n",
            "3/3 [==============================] - 0s 148ms/step - loss: 0.6826 - binary_accuracy: 0.6049 - recall_m: 1.0000 - precision_m: 0.6023 - f1_m: 0.7498 - val_loss: 0.6768 - val_binary_accuracy: 0.6944 - val_recall_m: 1.0000 - val_precision_m: 0.7188 - val_f1_m: 0.8360\n",
            "Epoch 41/100\n",
            "3/3 [==============================] - 0s 161ms/step - loss: 0.6831 - binary_accuracy: 0.6049 - recall_m: 1.0000 - precision_m: 0.5839 - f1_m: 0.7333 - val_loss: 0.6762 - val_binary_accuracy: 0.6944 - val_recall_m: 1.0000 - val_precision_m: 0.7188 - val_f1_m: 0.8360\n",
            "Epoch 42/100\n",
            "3/3 [==============================] - 0s 147ms/step - loss: 0.6832 - binary_accuracy: 0.6049 - recall_m: 1.0000 - precision_m: 0.6115 - f1_m: 0.7583 - val_loss: 0.6757 - val_binary_accuracy: 0.6944 - val_recall_m: 1.0000 - val_precision_m: 0.7188 - val_f1_m: 0.8360\n",
            "Epoch 43/100\n",
            "3/3 [==============================] - 0s 153ms/step - loss: 0.6820 - binary_accuracy: 0.6049 - recall_m: 1.0000 - precision_m: 0.6115 - f1_m: 0.7586 - val_loss: 0.6751 - val_binary_accuracy: 0.6944 - val_recall_m: 1.0000 - val_precision_m: 0.7188 - val_f1_m: 0.8360\n",
            "Epoch 44/100\n",
            "3/3 [==============================] - 0s 153ms/step - loss: 0.6825 - binary_accuracy: 0.6049 - recall_m: 1.0000 - precision_m: 0.5931 - f1_m: 0.7436 - val_loss: 0.6745 - val_binary_accuracy: 0.6944 - val_recall_m: 1.0000 - val_precision_m: 0.7188 - val_f1_m: 0.8360\n",
            "Epoch 45/100\n",
            "3/3 [==============================] - 0s 158ms/step - loss: 0.6815 - binary_accuracy: 0.6049 - recall_m: 1.0000 - precision_m: 0.6299 - f1_m: 0.7634 - val_loss: 0.6740 - val_binary_accuracy: 0.6944 - val_recall_m: 1.0000 - val_precision_m: 0.7188 - val_f1_m: 0.8360\n",
            "Epoch 46/100\n",
            "3/3 [==============================] - 0s 149ms/step - loss: 0.6787 - binary_accuracy: 0.6049 - recall_m: 1.0000 - precision_m: 0.6115 - f1_m: 0.7583 - val_loss: 0.6733 - val_binary_accuracy: 0.6944 - val_recall_m: 1.0000 - val_precision_m: 0.7188 - val_f1_m: 0.8360\n",
            "Epoch 47/100\n",
            "3/3 [==============================] - 0s 160ms/step - loss: 0.6798 - binary_accuracy: 0.6049 - recall_m: 1.0000 - precision_m: 0.6023 - f1_m: 0.7479 - val_loss: 0.6727 - val_binary_accuracy: 0.6944 - val_recall_m: 1.0000 - val_precision_m: 0.7188 - val_f1_m: 0.8360\n",
            "Epoch 48/100\n",
            "3/3 [==============================] - 0s 149ms/step - loss: 0.6792 - binary_accuracy: 0.6049 - recall_m: 1.0000 - precision_m: 0.6207 - f1_m: 0.7642 - val_loss: 0.6720 - val_binary_accuracy: 0.6944 - val_recall_m: 1.0000 - val_precision_m: 0.7188 - val_f1_m: 0.8360\n",
            "Epoch 49/100\n",
            "3/3 [==============================] - 0s 161ms/step - loss: 0.6791 - binary_accuracy: 0.6049 - recall_m: 1.0000 - precision_m: 0.5839 - f1_m: 0.7333 - val_loss: 0.6713 - val_binary_accuracy: 0.6944 - val_recall_m: 1.0000 - val_precision_m: 0.7188 - val_f1_m: 0.8360\n",
            "Epoch 50/100\n",
            "3/3 [==============================] - 0s 146ms/step - loss: 0.6804 - binary_accuracy: 0.6049 - recall_m: 1.0000 - precision_m: 0.6023 - f1_m: 0.7517 - val_loss: 0.6707 - val_binary_accuracy: 0.6944 - val_recall_m: 1.0000 - val_precision_m: 0.7188 - val_f1_m: 0.8360\n",
            "Epoch 51/100\n",
            "3/3 [==============================] - 0s 156ms/step - loss: 0.6787 - binary_accuracy: 0.6049 - recall_m: 1.0000 - precision_m: 0.6115 - f1_m: 0.7557 - val_loss: 0.6701 - val_binary_accuracy: 0.6944 - val_recall_m: 1.0000 - val_precision_m: 0.7188 - val_f1_m: 0.8360\n",
            "Epoch 52/100\n",
            "3/3 [==============================] - 0s 145ms/step - loss: 0.6746 - binary_accuracy: 0.6049 - recall_m: 1.0000 - precision_m: 0.5931 - f1_m: 0.7433 - val_loss: 0.6694 - val_binary_accuracy: 0.6944 - val_recall_m: 1.0000 - val_precision_m: 0.7188 - val_f1_m: 0.8360\n",
            "Epoch 53/100\n",
            "3/3 [==============================] - 0s 159ms/step - loss: 0.6813 - binary_accuracy: 0.6049 - recall_m: 1.0000 - precision_m: 0.5839 - f1_m: 0.7339 - val_loss: 0.6687 - val_binary_accuracy: 0.6944 - val_recall_m: 1.0000 - val_precision_m: 0.7188 - val_f1_m: 0.8360\n",
            "Epoch 54/100\n",
            "3/3 [==============================] - 0s 150ms/step - loss: 0.6757 - binary_accuracy: 0.6049 - recall_m: 1.0000 - precision_m: 0.6207 - f1_m: 0.7636 - val_loss: 0.6681 - val_binary_accuracy: 0.6944 - val_recall_m: 1.0000 - val_precision_m: 0.7188 - val_f1_m: 0.8360\n",
            "Epoch 55/100\n",
            "3/3 [==============================] - 0s 158ms/step - loss: 0.6750 - binary_accuracy: 0.6049 - recall_m: 1.0000 - precision_m: 0.6023 - f1_m: 0.7498 - val_loss: 0.6674 - val_binary_accuracy: 0.6944 - val_recall_m: 1.0000 - val_precision_m: 0.7188 - val_f1_m: 0.8360\n",
            "Epoch 56/100\n",
            "3/3 [==============================] - 0s 146ms/step - loss: 0.6756 - binary_accuracy: 0.6049 - recall_m: 1.0000 - precision_m: 0.6115 - f1_m: 0.7586 - val_loss: 0.6667 - val_binary_accuracy: 0.6944 - val_recall_m: 1.0000 - val_precision_m: 0.7188 - val_f1_m: 0.8360\n",
            "Epoch 57/100\n",
            "3/3 [==============================] - 0s 163ms/step - loss: 0.6746 - binary_accuracy: 0.6049 - recall_m: 1.0000 - precision_m: 0.5931 - f1_m: 0.7436 - val_loss: 0.6659 - val_binary_accuracy: 0.6944 - val_recall_m: 1.0000 - val_precision_m: 0.7188 - val_f1_m: 0.8360\n",
            "Epoch 58/100\n",
            "3/3 [==============================] - 0s 143ms/step - loss: 0.6768 - binary_accuracy: 0.6049 - recall_m: 1.0000 - precision_m: 0.6115 - f1_m: 0.7557 - val_loss: 0.6652 - val_binary_accuracy: 0.6944 - val_recall_m: 1.0000 - val_precision_m: 0.7188 - val_f1_m: 0.8360\n",
            "Epoch 59/100\n",
            "3/3 [==============================] - 0s 160ms/step - loss: 0.6733 - binary_accuracy: 0.6049 - recall_m: 1.0000 - precision_m: 0.6207 - f1_m: 0.7636 - val_loss: 0.6644 - val_binary_accuracy: 0.6944 - val_recall_m: 1.0000 - val_precision_m: 0.7188 - val_f1_m: 0.8360\n",
            "Epoch 60/100\n",
            "3/3 [==============================] - 0s 149ms/step - loss: 0.6794 - binary_accuracy: 0.6049 - recall_m: 1.0000 - precision_m: 0.6023 - f1_m: 0.7511 - val_loss: 0.6636 - val_binary_accuracy: 0.6944 - val_recall_m: 1.0000 - val_precision_m: 0.7188 - val_f1_m: 0.8360\n",
            "Epoch 61/100\n",
            "3/3 [==============================] - 0s 157ms/step - loss: 0.6745 - binary_accuracy: 0.6049 - recall_m: 1.0000 - precision_m: 0.5931 - f1_m: 0.7433 - val_loss: 0.6629 - val_binary_accuracy: 0.6944 - val_recall_m: 1.0000 - val_precision_m: 0.7188 - val_f1_m: 0.8360\n",
            "Epoch 62/100\n",
            "3/3 [==============================] - 0s 146ms/step - loss: 0.6726 - binary_accuracy: 0.6049 - recall_m: 1.0000 - precision_m: 0.6115 - f1_m: 0.7583 - val_loss: 0.6621 - val_binary_accuracy: 0.6944 - val_recall_m: 1.0000 - val_precision_m: 0.7188 - val_f1_m: 0.8360\n",
            "Epoch 63/100\n",
            "3/3 [==============================] - 0s 153ms/step - loss: 0.6754 - binary_accuracy: 0.6049 - recall_m: 1.0000 - precision_m: 0.5931 - f1_m: 0.7436 - val_loss: 0.6614 - val_binary_accuracy: 0.6944 - val_recall_m: 1.0000 - val_precision_m: 0.7188 - val_f1_m: 0.8360\n",
            "Epoch 64/100\n",
            "3/3 [==============================] - 0s 150ms/step - loss: 0.6699 - binary_accuracy: 0.6049 - recall_m: 1.0000 - precision_m: 0.5839 - f1_m: 0.7333 - val_loss: 0.6607 - val_binary_accuracy: 0.6944 - val_recall_m: 1.0000 - val_precision_m: 0.7188 - val_f1_m: 0.8360\n",
            "Epoch 65/100\n",
            "3/3 [==============================] - 0s 159ms/step - loss: 0.6712 - binary_accuracy: 0.6049 - recall_m: 1.0000 - precision_m: 0.5931 - f1_m: 0.7433 - val_loss: 0.6600 - val_binary_accuracy: 0.6944 - val_recall_m: 1.0000 - val_precision_m: 0.7188 - val_f1_m: 0.8360\n",
            "Epoch 66/100\n",
            "3/3 [==============================] - 0s 146ms/step - loss: 0.6696 - binary_accuracy: 0.6049 - recall_m: 1.0000 - precision_m: 0.6207 - f1_m: 0.7642 - val_loss: 0.6593 - val_binary_accuracy: 0.6944 - val_recall_m: 1.0000 - val_precision_m: 0.7188 - val_f1_m: 0.8360\n",
            "Epoch 67/100\n",
            "3/3 [==============================] - 0s 155ms/step - loss: 0.6675 - binary_accuracy: 0.6049 - recall_m: 1.0000 - precision_m: 0.5839 - f1_m: 0.7339 - val_loss: 0.6585 - val_binary_accuracy: 0.6944 - val_recall_m: 1.0000 - val_precision_m: 0.7188 - val_f1_m: 0.8360\n",
            "Epoch 68/100\n",
            "3/3 [==============================] - 0s 145ms/step - loss: 0.6715 - binary_accuracy: 0.6049 - recall_m: 1.0000 - precision_m: 0.6023 - f1_m: 0.7517 - val_loss: 0.6576 - val_binary_accuracy: 0.6944 - val_recall_m: 1.0000 - val_precision_m: 0.7188 - val_f1_m: 0.8360\n",
            "Epoch 69/100\n",
            "3/3 [==============================] - 0s 163ms/step - loss: 0.6698 - binary_accuracy: 0.6049 - recall_m: 1.0000 - precision_m: 0.6115 - f1_m: 0.7583 - val_loss: 0.6568 - val_binary_accuracy: 0.6944 - val_recall_m: 1.0000 - val_precision_m: 0.7188 - val_f1_m: 0.8360\n",
            "Epoch 70/100\n",
            "3/3 [==============================] - 0s 145ms/step - loss: 0.6713 - binary_accuracy: 0.6049 - recall_m: 1.0000 - precision_m: 0.5839 - f1_m: 0.7339 - val_loss: 0.6560 - val_binary_accuracy: 0.6944 - val_recall_m: 1.0000 - val_precision_m: 0.7188 - val_f1_m: 0.8360\n",
            "Epoch 71/100\n",
            "3/3 [==============================] - 0s 160ms/step - loss: 0.6744 - binary_accuracy: 0.6049 - recall_m: 1.0000 - precision_m: 0.6207 - f1_m: 0.7636 - val_loss: 0.6553 - val_binary_accuracy: 0.6944 - val_recall_m: 1.0000 - val_precision_m: 0.7188 - val_f1_m: 0.8360\n",
            "Epoch 72/100\n",
            "3/3 [==============================] - 0s 147ms/step - loss: 0.6673 - binary_accuracy: 0.6049 - recall_m: 1.0000 - precision_m: 0.6115 - f1_m: 0.7583 - val_loss: 0.6545 - val_binary_accuracy: 0.6944 - val_recall_m: 1.0000 - val_precision_m: 0.7188 - val_f1_m: 0.8360\n",
            "Epoch 73/100\n",
            "3/3 [==============================] - 0s 162ms/step - loss: 0.6616 - binary_accuracy: 0.6049 - recall_m: 1.0000 - precision_m: 0.6023 - f1_m: 0.7511 - val_loss: 0.6536 - val_binary_accuracy: 0.6944 - val_recall_m: 1.0000 - val_precision_m: 0.7188 - val_f1_m: 0.8360\n",
            "Epoch 74/100\n",
            "3/3 [==============================] - 1s 221ms/step - loss: 0.6620 - binary_accuracy: 0.6049 - recall_m: 1.0000 - precision_m: 0.6391 - f1_m: 0.7724 - val_loss: 0.6526 - val_binary_accuracy: 0.6944 - val_recall_m: 1.0000 - val_precision_m: 0.7188 - val_f1_m: 0.8360\n",
            "Epoch 75/100\n",
            "3/3 [==============================] - 1s 232ms/step - loss: 0.6688 - binary_accuracy: 0.6049 - recall_m: 1.0000 - precision_m: 0.5839 - f1_m: 0.7333 - val_loss: 0.6514 - val_binary_accuracy: 0.6944 - val_recall_m: 1.0000 - val_precision_m: 0.7188 - val_f1_m: 0.8360\n",
            "Epoch 76/100\n",
            "3/3 [==============================] - 1s 216ms/step - loss: 0.6648 - binary_accuracy: 0.6049 - recall_m: 1.0000 - precision_m: 0.5931 - f1_m: 0.7433 - val_loss: 0.6504 - val_binary_accuracy: 0.6944 - val_recall_m: 1.0000 - val_precision_m: 0.7188 - val_f1_m: 0.8360\n",
            "Epoch 77/100\n",
            "3/3 [==============================] - 0s 156ms/step - loss: 0.6578 - binary_accuracy: 0.6049 - recall_m: 1.0000 - precision_m: 0.6207 - f1_m: 0.7642 - val_loss: 0.6493 - val_binary_accuracy: 0.6944 - val_recall_m: 1.0000 - val_precision_m: 0.7188 - val_f1_m: 0.8360\n",
            "Epoch 78/100\n",
            "3/3 [==============================] - 0s 157ms/step - loss: 0.6600 - binary_accuracy: 0.6049 - recall_m: 1.0000 - precision_m: 0.6299 - f1_m: 0.7689 - val_loss: 0.6481 - val_binary_accuracy: 0.6944 - val_recall_m: 1.0000 - val_precision_m: 0.7188 - val_f1_m: 0.8360\n",
            "Epoch 79/100\n",
            "3/3 [==============================] - 0s 155ms/step - loss: 0.6650 - binary_accuracy: 0.6049 - recall_m: 1.0000 - precision_m: 0.5931 - f1_m: 0.7436 - val_loss: 0.6468 - val_binary_accuracy: 0.6944 - val_recall_m: 1.0000 - val_precision_m: 0.7188 - val_f1_m: 0.8360\n",
            "Epoch 80/100\n",
            "3/3 [==============================] - 0s 164ms/step - loss: 0.6563 - binary_accuracy: 0.6049 - recall_m: 1.0000 - precision_m: 0.6023 - f1_m: 0.7511 - val_loss: 0.6455 - val_binary_accuracy: 0.6944 - val_recall_m: 1.0000 - val_precision_m: 0.7188 - val_f1_m: 0.8360\n",
            "Epoch 81/100\n",
            "3/3 [==============================] - 0s 152ms/step - loss: 0.6596 - binary_accuracy: 0.6049 - recall_m: 1.0000 - precision_m: 0.6207 - f1_m: 0.7642 - val_loss: 0.6442 - val_binary_accuracy: 0.6944 - val_recall_m: 1.0000 - val_precision_m: 0.7188 - val_f1_m: 0.8360\n",
            "Epoch 82/100\n",
            "3/3 [==============================] - 0s 158ms/step - loss: 0.6674 - binary_accuracy: 0.6049 - recall_m: 1.0000 - precision_m: 0.5839 - f1_m: 0.7339 - val_loss: 0.6429 - val_binary_accuracy: 0.6944 - val_recall_m: 1.0000 - val_precision_m: 0.7188 - val_f1_m: 0.8360\n",
            "Epoch 83/100\n",
            "3/3 [==============================] - 0s 160ms/step - loss: 0.6626 - binary_accuracy: 0.6049 - recall_m: 1.0000 - precision_m: 0.6299 - f1_m: 0.7658 - val_loss: 0.6419 - val_binary_accuracy: 0.6944 - val_recall_m: 1.0000 - val_precision_m: 0.7188 - val_f1_m: 0.8360\n",
            "Epoch 84/100\n",
            "3/3 [==============================] - 0s 163ms/step - loss: 0.6600 - binary_accuracy: 0.6049 - recall_m: 1.0000 - precision_m: 0.5748 - f1_m: 0.7225 - val_loss: 0.6406 - val_binary_accuracy: 0.6944 - val_recall_m: 1.0000 - val_precision_m: 0.7188 - val_f1_m: 0.8360\n",
            "Epoch 85/100\n",
            "3/3 [==============================] - 0s 159ms/step - loss: 0.6496 - binary_accuracy: 0.6049 - recall_m: 1.0000 - precision_m: 0.6023 - f1_m: 0.7517 - val_loss: 0.6395 - val_binary_accuracy: 0.6944 - val_recall_m: 1.0000 - val_precision_m: 0.7188 - val_f1_m: 0.8360\n",
            "Epoch 86/100\n",
            "3/3 [==============================] - 0s 157ms/step - loss: 0.6497 - binary_accuracy: 0.6049 - recall_m: 1.0000 - precision_m: 0.6207 - f1_m: 0.7642 - val_loss: 0.6382 - val_binary_accuracy: 0.6944 - val_recall_m: 1.0000 - val_precision_m: 0.7188 - val_f1_m: 0.8360\n",
            "Epoch 87/100\n",
            "3/3 [==============================] - 0s 162ms/step - loss: 0.6512 - binary_accuracy: 0.6049 - recall_m: 1.0000 - precision_m: 0.6023 - f1_m: 0.7479 - val_loss: 0.6365 - val_binary_accuracy: 0.6944 - val_recall_m: 1.0000 - val_precision_m: 0.7188 - val_f1_m: 0.8360\n",
            "Epoch 88/100\n",
            "3/3 [==============================] - 0s 163ms/step - loss: 0.6519 - binary_accuracy: 0.6049 - recall_m: 1.0000 - precision_m: 0.6023 - f1_m: 0.7498 - val_loss: 0.6349 - val_binary_accuracy: 0.6944 - val_recall_m: 1.0000 - val_precision_m: 0.7188 - val_f1_m: 0.8360\n",
            "Epoch 89/100\n",
            "3/3 [==============================] - 0s 157ms/step - loss: 0.6500 - binary_accuracy: 0.6049 - recall_m: 1.0000 - precision_m: 0.5839 - f1_m: 0.7333 - val_loss: 0.6332 - val_binary_accuracy: 0.6944 - val_recall_m: 1.0000 - val_precision_m: 0.7188 - val_f1_m: 0.8360\n",
            "Epoch 90/100\n",
            "3/3 [==============================] - 0s 158ms/step - loss: 0.6559 - binary_accuracy: 0.6049 - recall_m: 1.0000 - precision_m: 0.6115 - f1_m: 0.7573 - val_loss: 0.6317 - val_binary_accuracy: 0.6944 - val_recall_m: 1.0000 - val_precision_m: 0.7188 - val_f1_m: 0.8360\n",
            "Epoch 91/100\n",
            "3/3 [==============================] - 0s 159ms/step - loss: 0.6458 - binary_accuracy: 0.6049 - recall_m: 1.0000 - precision_m: 0.6299 - f1_m: 0.7675 - val_loss: 0.6300 - val_binary_accuracy: 0.6944 - val_recall_m: 1.0000 - val_precision_m: 0.7188 - val_f1_m: 0.8360\n",
            "Epoch 92/100\n",
            "3/3 [==============================] - 0s 161ms/step - loss: 0.6473 - binary_accuracy: 0.6049 - recall_m: 1.0000 - precision_m: 0.6391 - f1_m: 0.7724 - val_loss: 0.6279 - val_binary_accuracy: 0.6944 - val_recall_m: 1.0000 - val_precision_m: 0.7188 - val_f1_m: 0.8360\n",
            "Epoch 93/100\n",
            "3/3 [==============================] - 0s 159ms/step - loss: 0.6505 - binary_accuracy: 0.6049 - recall_m: 1.0000 - precision_m: 0.6023 - f1_m: 0.7517 - val_loss: 0.6255 - val_binary_accuracy: 0.6944 - val_recall_m: 1.0000 - val_precision_m: 0.7188 - val_f1_m: 0.8360\n",
            "Epoch 94/100\n",
            "3/3 [==============================] - 0s 164ms/step - loss: 0.6344 - binary_accuracy: 0.6049 - recall_m: 1.0000 - precision_m: 0.6023 - f1_m: 0.7517 - val_loss: 0.6231 - val_binary_accuracy: 0.6944 - val_recall_m: 1.0000 - val_precision_m: 0.7188 - val_f1_m: 0.8360\n",
            "Epoch 95/100\n",
            "3/3 [==============================] - 0s 153ms/step - loss: 0.6357 - binary_accuracy: 0.6049 - recall_m: 1.0000 - precision_m: 0.5748 - f1_m: 0.7202 - val_loss: 0.6207 - val_binary_accuracy: 0.6944 - val_recall_m: 1.0000 - val_precision_m: 0.7188 - val_f1_m: 0.8360\n",
            "Epoch 96/100\n",
            "3/3 [==============================] - 0s 155ms/step - loss: 0.6360 - binary_accuracy: 0.6049 - recall_m: 1.0000 - precision_m: 0.6023 - f1_m: 0.7511 - val_loss: 0.6191 - val_binary_accuracy: 0.6944 - val_recall_m: 1.0000 - val_precision_m: 0.7188 - val_f1_m: 0.8360\n",
            "Epoch 97/100\n",
            "3/3 [==============================] - 0s 162ms/step - loss: 0.6345 - binary_accuracy: 0.6049 - recall_m: 1.0000 - precision_m: 0.6115 - f1_m: 0.7586 - val_loss: 0.6173 - val_binary_accuracy: 0.6944 - val_recall_m: 1.0000 - val_precision_m: 0.7188 - val_f1_m: 0.8360\n",
            "Epoch 98/100\n",
            "3/3 [==============================] - 0s 159ms/step - loss: 0.6265 - binary_accuracy: 0.6049 - recall_m: 1.0000 - precision_m: 0.5839 - f1_m: 0.7333 - val_loss: 0.6152 - val_binary_accuracy: 0.6944 - val_recall_m: 1.0000 - val_precision_m: 0.7188 - val_f1_m: 0.8360\n",
            "Epoch 99/100\n",
            "3/3 [==============================] - 0s 159ms/step - loss: 0.6254 - binary_accuracy: 0.6049 - recall_m: 1.0000 - precision_m: 0.6207 - f1_m: 0.7636 - val_loss: 0.6135 - val_binary_accuracy: 0.6944 - val_recall_m: 1.0000 - val_precision_m: 0.7188 - val_f1_m: 0.8360\n",
            "Epoch 100/100\n",
            "3/3 [==============================] - 0s 155ms/step - loss: 0.6292 - binary_accuracy: 0.6049 - recall_m: 1.0000 - precision_m: 0.5839 - f1_m: 0.7333 - val_loss: 0.6115 - val_binary_accuracy: 0.6944 - val_recall_m: 1.0000 - val_precision_m: 0.7188 - val_f1_m: 0.8360\n"
          ]
        }
      ]
    },
    {
      "cell_type": "markdown",
      "source": [
        "## 3.2 BERT model for sequence classification"
      ],
      "metadata": {
        "id": "SnjVRAkSIoaq"
      }
    },
    {
      "cell_type": "code",
      "source": [
        "!pip install -q transformers"
      ],
      "metadata": {
        "id": "zmDSGz1hiQzc"
      },
      "execution_count": 79,
      "outputs": []
    },
    {
      "cell_type": "code",
      "source": [
        "import tensorflow as tf"
      ],
      "metadata": {
        "id": "neIf3lCFYM6M"
      },
      "execution_count": 80,
      "outputs": []
    },
    {
      "cell_type": "markdown",
      "source": [
        "### 3.2.2 BERT model initialization (Sequence Classification)"
      ],
      "metadata": {
        "id": "zjoI9Djb6jmn"
      }
    },
    {
      "cell_type": "code",
      "source": [
        "from transformers import BertTokenizer, TFBertForSequenceClassification\n",
        "from transformers import InputExample, InputFeatures\n",
        "from transformers import AutoTokenizer, AutoModelForSequenceClassification, pipeline\n",
        "\n",
        "tokenizer = BertTokenizer.from_pretrained(\"sagorsarker/codeswitch-spaeng-sentiment-analysis-lince\")\n",
        "model = TFBertForSequenceClassification.from_pretrained(\"sagorsarker/codeswitch-spaeng-sentiment-analysis-lince\", from_pt=True)"
      ],
      "metadata": {
        "id": "esrSLGDBW3rI"
      },
      "execution_count": null,
      "outputs": []
    },
    {
      "cell_type": "markdown",
      "source": [
        "### 3.2.1 Make datasets with encoding information (Dataset objects)"
      ],
      "metadata": {
        "id": "zQgJA5k6k8uL"
      }
    },
    {
      "cell_type": "code",
      "source": [
        "df_train = pd.DataFrame({'DATA_COLUMN': X_train, 'LABEL_COLUMN': y_train})\n",
        "df_valid = pd.DataFrame({'DATA_COLUMN': X_valid, 'LABEL_COLUMN': y_valid})"
      ],
      "metadata": {
        "id": "0_8PDUkJS2KE"
      },
      "execution_count": 83,
      "outputs": []
    },
    {
      "cell_type": "code",
      "source": [
        "df_train.loc[df_train[\"LABEL_COLUMN\"] == 1, \"LABEL_COLUMN\"] = 2\n",
        "df_valid.loc[df_valid[\"LABEL_COLUMN\"] == 1, \"LABEL_COLUMN\"] = 2"
      ],
      "metadata": {
        "id": "3AP7b-bFdr6F"
      },
      "execution_count": 199,
      "outputs": []
    },
    {
      "cell_type": "code",
      "source": [
        "def convert_data_to_examples(train, valid, DATA_COLUMN, LABEL_COLUMN): \n",
        "  train_InputExamples = train.apply(lambda x: InputExample(guid=None, # Globally unique ID for bookkeeping, unused in this case\n",
        "                                                          text_a = x[DATA_COLUMN], \n",
        "                                                          text_b = None,\n",
        "                                                          label = x[LABEL_COLUMN]), axis = 1)\n",
        "\n",
        "  validation_InputExamples = valid.apply(lambda x: InputExample(guid=None, # Globally unique ID for bookkeeping, unused in this case\n",
        "                                                          text_a = x[DATA_COLUMN], \n",
        "                                                          text_b = None,\n",
        "                                                          label = x[LABEL_COLUMN]), axis = 1)\n",
        "  \n",
        "  return train_InputExamples, validation_InputExamples\n",
        "\n",
        "  train_InputExamples, validation_InputExamples = convert_data_to_examples(train, \n",
        "                                                                           test, \n",
        "                                                                           'DATA_COLUMN', \n",
        "                                                                           'LABEL_COLUMN')\n",
        "  \n",
        "def convert_examples_to_tf_dataset(examples, tokenizer, max_length=128):\n",
        "    features = [] # -> will hold InputFeatures to be converted later\n",
        "\n",
        "    for example in examples:\n",
        "        # Documentation is really strong for this method, so please take a look at it\n",
        "        input_dict = tokenizer.encode_plus(\n",
        "            example.text_a,\n",
        "            add_special_tokens=True,\n",
        "            max_length=max_length, # truncates if len(s) > max_length\n",
        "            return_token_type_ids=True,\n",
        "            return_attention_mask=True,\n",
        "            pad_to_max_length=True, # pads to the right by default # CHECK THIS for pad_to_max_length\n",
        "            truncation=True\n",
        "        )\n",
        "\n",
        "        input_ids, token_type_ids, attention_mask = (input_dict[\"input_ids\"],\n",
        "            input_dict[\"token_type_ids\"], input_dict['attention_mask'])\n",
        "\n",
        "        features.append(\n",
        "            InputFeatures(\n",
        "                input_ids=input_ids, attention_mask=attention_mask, token_type_ids=token_type_ids, label=example.label\n",
        "            )\n",
        "        )\n",
        "\n",
        "    def gen():\n",
        "        for feature in features:\n",
        "            yield (\n",
        "                {\n",
        "                    \"input_ids\": feature.input_ids,\n",
        "                    \"attention_mask\": feature.attention_mask,\n",
        "                    \"token_type_ids\": feature.token_type_ids,\n",
        "                },\n",
        "                feature.label,\n",
        "            )\n",
        "\n",
        "    return tf.data.Dataset.from_generator(\n",
        "        gen,\n",
        "        ({\"input_ids\": tf.int32, \"attention_mask\": tf.int32, \"token_type_ids\": tf.int32}, tf.int64),\n",
        "        (\n",
        "            {\n",
        "                \"input_ids\": tf.TensorShape([None]),\n",
        "                \"attention_mask\": tf.TensorShape([None]),\n",
        "                \"token_type_ids\": tf.TensorShape([None]),\n",
        "            },\n",
        "            tf.TensorShape([]),\n",
        "        ),\n",
        "    )\n",
        "\n",
        "\n",
        "DATA_COLUMN = 'DATA_COLUMN'\n",
        "LABEL_COLUMN = 'LABEL_COLUMN'"
      ],
      "metadata": {
        "id": "IUNSNNj5REyz"
      },
      "execution_count": 84,
      "outputs": []
    },
    {
      "cell_type": "code",
      "source": [
        "train_InputExamples, validation_InputExamples = convert_data_to_examples(df_train, df_valid, DATA_COLUMN, LABEL_COLUMN)\n",
        "\n",
        "train_data = convert_examples_to_tf_dataset(list(train_InputExamples), tokenizer)\n",
        "train_data = train_data.shuffle(100).batch(32).repeat(2)\n",
        "\n",
        "validation_data = convert_examples_to_tf_dataset(list(validation_InputExamples), tokenizer)\n",
        "validation_data = validation_data.batch(32)"
      ],
      "metadata": {
        "colab": {
          "base_uri": "https://localhost:8080/"
        },
        "id": "a8eKR5lIVkkM",
        "outputId": "78564e53-2a6f-4d11-f95a-ac14b98b27c7"
      },
      "execution_count": 85,
      "outputs": [
        {
          "output_type": "stream",
          "name": "stderr",
          "text": [
            "/usr/local/lib/python3.7/dist-packages/transformers/tokenization_utils_base.py:2291: FutureWarning:\n",
            "\n",
            "The `pad_to_max_length` argument is deprecated and will be removed in a future version, use `padding=True` or `padding='longest'` to pad to the longest sequence in the batch, or use `padding='max_length'` to pad to a max length. In this case, you can give a specific length with `max_length` (e.g. `max_length=45`) or leave max_length to None to pad to the maximal input size of the model (e.g. 512 for Bert).\n",
            "\n"
          ]
        }
      ]
    },
    {
      "cell_type": "code",
      "source": [
        "train_InputExamples[0]"
      ],
      "metadata": {
        "colab": {
          "base_uri": "https://localhost:8080/"
        },
        "id": "N51TYqbUQulf",
        "outputId": "e9ea19b1-278c-4dbe-abe4-15f0d1d70abd"
      },
      "execution_count": 86,
      "outputs": [
        {
          "output_type": "execute_result",
          "data": {
            "text/plain": [
              "InputExample(guid=None, text_a='volvi a ver  a fico aunque siento que desaprovecho papayazos lo vi bien sin odio y con tranquilidad', text_b=None, label=1)"
            ]
          },
          "metadata": {},
          "execution_count": 86
        }
      ]
    },
    {
      "cell_type": "code",
      "source": [
        "from tensorflow.keras.callbacks import EarlyStopping\n",
        "\n",
        "early_stopping = EarlyStopping(\n",
        "    min_delta=0.001, # minimium amount of change to count as an improvement\n",
        "    patience=10, # how many epochs to wait before stopping\n",
        "    restore_best_weights=True,\n",
        ")"
      ],
      "metadata": {
        "id": "ig0Td0uEYzk6"
      },
      "execution_count": 319,
      "outputs": []
    },
    {
      "cell_type": "markdown",
      "source": [
        "### 3.3.3 Metrics"
      ],
      "metadata": {
        "id": "8NsgCAE3IUuJ"
      }
    },
    {
      "cell_type": "code",
      "source": [
        "from keras import backend as K\n",
        "\n",
        "def recall_m(y_true, y_pred):\n",
        "    true_positives = K.sum(K.round(K.clip(y_true * y_pred, 0, 1)))\n",
        "    possible_positives = K.sum(K.round(K.clip(y_true, 0, 1)))\n",
        "    recall = true_positives / (possible_positives + K.epsilon())\n",
        "    return recall\n",
        "\n",
        "def precision_m(y_true, y_pred):\n",
        "    true_positives = K.sum(K.round(K.clip(y_true * y_pred, 0, 1)))\n",
        "    predicted_positives = K.sum(K.round(K.clip(y_pred, 0, 1)))\n",
        "    precision = true_positives / (predicted_positives + K.epsilon())\n",
        "    return precision\n",
        "\n",
        "def f1_m(y_true, y_pred):\n",
        "    precision = precision_m(y_true, y_pred)\n",
        "    recall = recall_m(y_true, y_pred)\n",
        "    return 2*((precision*recall)/(precision+recall+K.epsilon()))"
      ],
      "metadata": {
        "id": "QeBIeViNIeVb"
      },
      "execution_count": 187,
      "outputs": []
    },
    {
      "cell_type": "markdown",
      "source": [
        "### 3.3.4 +Hyperparameters and Training"
      ],
      "metadata": {
        "id": "YTQVtZ9PnEfJ"
      }
    },
    {
      "cell_type": "code",
      "source": [
        "model.compile(optimizer=tf.keras.optimizers.Adam(learning_rate=1e-5, epsilon=1e-08, clipnorm=1.0), \n",
        "              loss=tf.keras.losses.SparseCategoricalCrossentropy(from_logits=True),\n",
        "              metrics=['sparse_categorical_accuracy',f1_m,precision_m, recall_m])\n",
        "              # metrics=[tf.keras.metrics.SparseCategoricalAccuracy('accuracy')])\n",
        "\n",
        "history = model.fit(train_data, epochs=100, validation_data=validation_data, callbacks=[early_stopping])"
      ],
      "metadata": {
        "id": "UV-GT3gUWSak",
        "colab": {
          "base_uri": "https://localhost:8080/"
        },
        "outputId": "7643ee9a-cd9e-4e98-bb1b-8ee4ba51048a"
      },
      "execution_count": 384,
      "outputs": [
        {
          "output_type": "stream",
          "name": "stdout",
          "text": [
            "Epoch 1/100\n",
            "6/6 [==============================] - 31s 2s/step - loss: 0.6832 - sparse_categorical_accuracy: 0.6724 - f1_m: 0.6291 - precision_m: 0.6586 - recall_m: 0.6150 - val_loss: 0.6844 - val_sparse_categorical_accuracy: 0.7000 - val_f1_m: 0.5333 - val_precision_m: 0.8000 - val_recall_m: 0.4000\n",
            "Epoch 2/100\n",
            "6/6 [==============================] - 5s 757ms/step - loss: 0.4575 - sparse_categorical_accuracy: 0.8161 - f1_m: 0.5771 - precision_m: 0.6822 - recall_m: 0.5036 - val_loss: 0.7212 - val_sparse_categorical_accuracy: 0.6333 - val_f1_m: 0.4848 - val_precision_m: 0.6154 - val_recall_m: 0.4000\n",
            "Epoch 3/100\n",
            "6/6 [==============================] - 5s 763ms/step - loss: 0.3261 - sparse_categorical_accuracy: 0.8736 - f1_m: 0.6888 - precision_m: 0.6574 - recall_m: 0.7462 - val_loss: 0.7449 - val_sparse_categorical_accuracy: 0.6000 - val_f1_m: 0.7317 - val_precision_m: 0.7143 - val_recall_m: 0.7500\n",
            "Epoch 4/100\n",
            "6/6 [==============================] - 5s 766ms/step - loss: 0.1848 - sparse_categorical_accuracy: 0.9368 - f1_m: 0.7624 - precision_m: 0.6444 - recall_m: 0.9385 - val_loss: 0.9258 - val_sparse_categorical_accuracy: 0.6333 - val_f1_m: 0.7727 - val_precision_m: 0.7083 - val_recall_m: 0.8500\n",
            "Epoch 5/100\n",
            "6/6 [==============================] - 5s 768ms/step - loss: 0.1026 - sparse_categorical_accuracy: 0.9713 - f1_m: 0.7618 - precision_m: 0.6346 - recall_m: 0.9611 - val_loss: 1.0612 - val_sparse_categorical_accuracy: 0.6000 - val_f1_m: 0.7826 - val_precision_m: 0.6923 - val_recall_m: 0.9000\n",
            "Epoch 6/100\n",
            "6/6 [==============================] - 5s 778ms/step - loss: 0.0694 - sparse_categorical_accuracy: 0.9828 - f1_m: 0.7682 - precision_m: 0.6303 - recall_m: 0.9912 - val_loss: 1.1799 - val_sparse_categorical_accuracy: 0.6000 - val_f1_m: 0.7917 - val_precision_m: 0.6786 - val_recall_m: 0.9500\n",
            "Epoch 7/100\n",
            "6/6 [==============================] - 5s 770ms/step - loss: 0.0559 - sparse_categorical_accuracy: 0.9828 - f1_m: 0.7662 - precision_m: 0.6218 - recall_m: 1.0000 - val_loss: 1.2009 - val_sparse_categorical_accuracy: 0.6667 - val_f1_m: 0.7755 - val_precision_m: 0.6552 - val_recall_m: 0.9500\n",
            "Epoch 8/100\n",
            "6/6 [==============================] - 5s 774ms/step - loss: 0.0167 - sparse_categorical_accuracy: 1.0000 - f1_m: 0.7610 - precision_m: 0.6155 - recall_m: 1.0000 - val_loss: 1.2711 - val_sparse_categorical_accuracy: 0.6000 - val_f1_m: 0.7917 - val_precision_m: 0.6786 - val_recall_m: 0.9500\n",
            "Epoch 9/100\n",
            "6/6 [==============================] - 5s 777ms/step - loss: 0.0149 - sparse_categorical_accuracy: 1.0000 - f1_m: 0.7585 - precision_m: 0.6135 - recall_m: 1.0000 - val_loss: 1.3786 - val_sparse_categorical_accuracy: 0.6333 - val_f1_m: 0.8085 - val_precision_m: 0.7037 - val_recall_m: 0.9500\n",
            "Epoch 10/100\n",
            "6/6 [==============================] - 5s 779ms/step - loss: 0.0091 - sparse_categorical_accuracy: 1.0000 - f1_m: 0.7645 - precision_m: 0.6196 - recall_m: 1.0000 - val_loss: 1.3973 - val_sparse_categorical_accuracy: 0.6667 - val_f1_m: 0.7500 - val_precision_m: 0.6429 - val_recall_m: 0.9000\n",
            "Epoch 11/100\n",
            "6/6 [==============================] - 5s 827ms/step - loss: 0.0078 - sparse_categorical_accuracy: 1.0000 - f1_m: 0.7680 - precision_m: 0.6257 - recall_m: 1.0000 - val_loss: 1.4789 - val_sparse_categorical_accuracy: 0.6667 - val_f1_m: 0.7755 - val_precision_m: 0.6552 - val_recall_m: 0.9500\n"
          ]
        }
      ]
    },
    {
      "cell_type": "markdown",
      "source": [
        "# 4. Evaluation"
      ],
      "metadata": {
        "id": "mEdpVUqAJH1X"
      }
    },
    {
      "cell_type": "markdown",
      "source": [
        "## 4.1 Evaluate Bidirectional LSTM Model"
      ],
      "metadata": {
        "id": "5zL_3k4bNjYc"
      }
    },
    {
      "cell_type": "markdown",
      "source": [
        "### 4.1.1 Sparse Binnary Accuracy\n",
        "\n",
        "\n"
      ],
      "metadata": {
        "id": "kalFAIN5kt2p"
      }
    },
    {
      "cell_type": "code",
      "source": [
        "#@title\n",
        "from matplotlib import pyplot as plt\n",
        "\n",
        "BiLSTM_history_df = pd.DataFrame(BiLSTM_history.history)\n",
        "BiLSTM_history_df.loc[:, ['loss', 'val_loss']].plot()\n",
        "BiLSTM_history_df.loc[:, ['binary_accuracy', 'val_binary_accuracy']].plot()\n",
        "\n",
        "print((\"Best Validation Loss: {:0.4f}\" +\\\n",
        "      \"\\nBest Validation Accuracy: {:0.4f}\")\\\n",
        "      .format(BiLSTM_history_df['val_loss'].min(), \n",
        "              BiLSTM_history_df['val_binary_accuracy'].max()))"
      ],
      "metadata": {
        "id": "1UptvQNBGWZZ",
        "cellView": "form",
        "colab": {
          "base_uri": "https://localhost:8080/",
          "height": 548
        },
        "outputId": "f55ded50-421e-4597-9f46-334d9f89cfac"
      },
      "execution_count": 480,
      "outputs": [
        {
          "output_type": "stream",
          "name": "stdout",
          "text": [
            "Best Validation Loss: 0.6115\n",
            "Best Validation Accuracy: 0.6944\n"
          ]
        },
        {
          "output_type": "display_data",
          "data": {
            "text/plain": [
              "<Figure size 432x288 with 1 Axes>"
            ],
            "image/png": "[encoded data removed]"
          },
          "metadata": {
            "needs_background": "light"
          }
        },
        {
          "output_type": "display_data",
          "data": {
            "text/plain": [
              "<Figure size 432x288 with 1 Axes>"
            ],
            "image/png": "[encoded data removed]"
          },
          "metadata": {
            "needs_background": "light"
          }
        }
      ]
    },
    {
      "cell_type": "markdown",
      "source": [
        ""
      ],
      "metadata": {
        "id": "0sG-xmdjwExN"
      }
    },
    {
      "cell_type": "markdown",
      "source": [
        "### 4.1.2 Precision"
      ],
      "metadata": {
        "id": "F7QCAiRHO793"
      }
    },
    {
      "cell_type": "code",
      "source": [
        "#@title\n",
        "BiLSTM_history_df = pd.DataFrame(BiLSTM_history.history)\n",
        "BiLSTM_history_df.loc[:, ['precision_m', 'val_precision_m']].plot()\n",
        "\n",
        "print((\"Best Validation Precision: {:0.4f}\")\\\n",
        "      .format(BiLSTM_history_df['val_precision_m'].max()))"
      ],
      "metadata": {
        "cellView": "form",
        "id": "NmISWV74lCAz",
        "colab": {
          "base_uri": "https://localhost:8080/",
          "height": 282
        },
        "outputId": "cf10389a-0f32-4ad8-fbdc-22d6e17a42b6"
      },
      "execution_count": 481,
      "outputs": [
        {
          "output_type": "stream",
          "name": "stdout",
          "text": [
            "Best Validation Precision: 0.7188\n"
          ]
        },
        {
          "output_type": "display_data",
          "data": {
            "text/plain": [
              "<Figure size 432x288 with 1 Axes>"
            ],
            "image/png": "[encoded data removed]"
          },
          "metadata": {
            "needs_background": "light"
          }
        }
      ]
    },
    {
      "cell_type": "markdown",
      "source": [
        "### 4.1.3 Recall"
      ],
      "metadata": {
        "id": "z8tOElT7kbx8"
      }
    },
    {
      "cell_type": "code",
      "source": [
        "#@title\n",
        "BiLSTM_history_df = pd.DataFrame(BiLSTM_history.history)\n",
        "BiLSTM_history_df.loc[:, ['recall_m', 'val_recall_m']].plot()\n",
        "\n",
        "print((\"Best Validation Recall: {:0.4f}\")\\\n",
        "      .format(BiLSTM_history_df['val_recall_m'].max()))"
      ],
      "metadata": {
        "cellView": "form",
        "id": "AUYxrwI0lE1U",
        "colab": {
          "base_uri": "https://localhost:8080/",
          "height": 282
        },
        "outputId": "a5c68475-282c-48a5-f95a-706417d52317"
      },
      "execution_count": 482,
      "outputs": [
        {
          "output_type": "stream",
          "name": "stdout",
          "text": [
            "Best Validation Recall: 1.0000\n"
          ]
        },
        {
          "output_type": "display_data",
          "data": {
            "text/plain": [
              "<Figure size 432x288 with 1 Axes>"
            ],
            "image/png": "[encoded data removed]"
          },
          "metadata": {
            "needs_background": "light"
          }
        }
      ]
    },
    {
      "cell_type": "markdown",
      "source": [
        "### 4.1.4 F1 Score"
      ],
      "metadata": {
        "id": "BTsucQUckcpE"
      }
    },
    {
      "cell_type": "code",
      "source": [
        "#@title\n",
        "BiLSTM_history_df = pd.DataFrame(BiLSTM_history.history)\n",
        "BiLSTM_history_df.loc[:, ['f1_m', 'val_f1_m']].plot()\n",
        "\n",
        "print((\"Best Validation F1 Score: {:0.4f}\")\\\n",
        "      .format(BiLSTM_history_df['val_f1_m'].max()))"
      ],
      "metadata": {
        "cellView": "form",
        "id": "9bPN1CRdlOr9",
        "colab": {
          "base_uri": "https://localhost:8080/",
          "height": 283
        },
        "outputId": "b84d0567-c9bd-4822-f14e-07e7b95e1c32"
      },
      "execution_count": 483,
      "outputs": [
        {
          "output_type": "stream",
          "name": "stdout",
          "text": [
            "Best Validation F1 Score: 0.8360\n"
          ]
        },
        {
          "output_type": "display_data",
          "data": {
            "text/plain": [
              "<Figure size 432x288 with 1 Axes>"
            ],
            "image/png": "[encoded data removed]"
          },
          "metadata": {
            "needs_background": "light"
          }
        }
      ]
    },
    {
      "cell_type": "markdown",
      "source": [
        "## 4.2 BERT Model"
      ],
      "metadata": {
        "id": "pQNuK6eQShCl"
      }
    },
    {
      "cell_type": "markdown",
      "source": [
        "### 4.2.1 Sparse Categorical Accuracy\n"
      ],
      "metadata": {
        "id": "qLtneUDESNmx"
      }
    },
    {
      "cell_type": "code",
      "source": [
        "#@title\n",
        "from matplotlib import pyplot as plt\n",
        "\n",
        "history_df = pd.DataFrame(history.history)\n",
        "history_df.loc[:, ['loss', 'val_loss']].plot()\n",
        "history_df.loc[:, ['sparse_categorical_accuracy', 'val_sparse_categorical_accuracy']].plot()\n",
        "\n",
        "print((\"Best Validation Loss: {:0.4f}\" +\\\n",
        "      \"\\nBest Validation Accuracy: {:0.4f}\")\\\n",
        "      .format(history_df['val_loss'].min(), \n",
        "              history_df['val_sparse_categorical_accuracy'].max()))"
      ],
      "metadata": {
        "id": "_728znKbXKWt",
        "cellView": "form",
        "colab": {
          "base_uri": "https://localhost:8080/",
          "height": 548
        },
        "outputId": "c0561138-3cb5-40e7-e795-e46fbc6dfcec"
      },
      "execution_count": 484,
      "outputs": [
        {
          "output_type": "stream",
          "name": "stdout",
          "text": [
            "Best Validation Loss: 0.6844\n",
            "Best Validation Accuracy: 0.7000\n"
          ]
        },
        {
          "output_type": "display_data",
          "data": {
            "text/plain": [
              "<Figure size 432x288 with 1 Axes>"
            ],
            "image/png": "[encoded data removed]"
          },
          "metadata": {
            "needs_background": "light"
          }
        },
        {
          "output_type": "display_data",
          "data": {
            "text/plain": [
              "<Figure size 432x288 with 1 Axes>"
            ],
            "image/png": "[encoded data removed]"
          },
          "metadata": {
            "needs_background": "light"
          }
        }
      ]
    },
    {
      "cell_type": "markdown",
      "source": [
        "### 4.2.1 Precision"
      ],
      "metadata": {
        "id": "at68FEBoSw4n"
      }
    },
    {
      "cell_type": "code",
      "source": [
        "#@title\n",
        "history_df = pd.DataFrame(history.history)\n",
        "history_df.loc[:, ['precision_m', 'val_precision_m']].plot()\n",
        "\n",
        "print((\"Best Validation Precision: {:0.4f}\")\\\n",
        "      .format(history_df['val_precision_m'].max()))"
      ],
      "metadata": {
        "cellView": "form",
        "id": "4ntJvOL6S-dG",
        "colab": {
          "base_uri": "https://localhost:8080/",
          "height": 282
        },
        "outputId": "6094b079-4d20-4ac7-b8b5-3d0ad73378e8"
      },
      "execution_count": 485,
      "outputs": [
        {
          "output_type": "stream",
          "name": "stdout",
          "text": [
            "Best Validation Precision: 0.8000\n"
          ]
        },
        {
          "output_type": "display_data",
          "data": {
            "text/plain": [
              "<Figure size 432x288 with 1 Axes>"
            ],
            "image/png": "[encoded data removed]"
          },
          "metadata": {
            "needs_background": "light"
          }
        }
      ]
    },
    {
      "cell_type": "markdown",
      "source": [
        "### 4.2.3 Recall"
      ],
      "metadata": {
        "id": "QAboDfjdSy1T"
      }
    },
    {
      "cell_type": "code",
      "source": [
        "#@title\n",
        "history_df = pd.DataFrame(history.history)\n",
        "history_df.loc[:, ['recall_m', 'val_recall_m']].plot()\n",
        "\n",
        "print((\"Best Validation Recall: {:0.4f}\")\\\n",
        "      .format(history_df['val_recall_m'].max()))"
      ],
      "metadata": {
        "id": "pa9tubS4WAu-",
        "colab": {
          "base_uri": "https://localhost:8080/",
          "height": 282
        },
        "cellView": "form",
        "outputId": "7f456e15-8b02-48d6-b87b-a24d82f1b936"
      },
      "execution_count": 486,
      "outputs": [
        {
          "output_type": "stream",
          "name": "stdout",
          "text": [
            "Best Validation Recall: 0.9500\n"
          ]
        },
        {
          "output_type": "display_data",
          "data": {
            "text/plain": [
              "<Figure size 432x288 with 1 Axes>"
            ],
            "image/png": "[encoded data removed]"
          },
          "metadata": {
            "needs_background": "light"
          }
        }
      ]
    },
    {
      "cell_type": "markdown",
      "source": [
        "### 4.2.4 F1 Score"
      ],
      "metadata": {
        "id": "vw9Cmoo6S2B3"
      }
    },
    {
      "cell_type": "code",
      "source": [
        "#@title\n",
        "history_df = pd.DataFrame(history.history)\n",
        "history_df.loc[:, ['f1_m', 'val_f1_m']].plot()\n",
        "\n",
        "print((\"Best Validation F1 Score: {:0.4f}\")\\\n",
        "      .format(history_df['val_f1_m'].max()))"
      ],
      "metadata": {
        "cellView": "form",
        "id": "sOMVXkzzU5VT",
        "colab": {
          "base_uri": "https://localhost:8080/",
          "height": 282
        },
        "outputId": "5066dbc7-9107-4c08-c6c5-866ce6078b65"
      },
      "execution_count": 487,
      "outputs": [
        {
          "output_type": "stream",
          "name": "stdout",
          "text": [
            "Best Validation F1 Score: 0.8085\n"
          ]
        },
        {
          "output_type": "display_data",
          "data": {
            "text/plain": [
              "<Figure size 432x288 with 1 Axes>"
            ],
            "image/png": "[encoded data removed]"
          },
          "metadata": {
            "needs_background": "light"
          }
        }
      ]
    },
    {
      "cell_type": "markdown",
      "source": [
        "## 4.3 Evaluate BEST MODEL (BERT)"
      ],
      "metadata": {
        "id": "MXGioaUeMqIC"
      }
    },
    {
      "cell_type": "code",
      "source": [
        "from transformers import pipeline\n",
        "\n",
        "raw_inputs = [\n",
        "    \"Sujeto estas lleno de odio\",\n",
        "    \"Sujeto es el cambio verdadero\",\n",
        "    \"Sujeto se va a robar el dinero del pais\",\n",
        "    \"Sujeto nos va a solucionar nuestros problemas\",\n",
        "    \"Sujeto es un corrupto y nos va a hundir\",\n",
        "    \"Sujeto es bueno administrando y traerá bien en su gobierno\"\n",
        "]\n",
        "\n",
        "inputs = tokenizer(raw_inputs, padding=True, truncation=True, return_tensors=\"tf\")\n",
        "print(inputs)"
      ],
      "metadata": {
        "colab": {
          "base_uri": "https://localhost:8080/"
        },
        "id": "wziMrsNLMpen",
        "outputId": "4842ae67-5a11-4fda-89ae-c6c45cf89999"
      },
      "execution_count": 488,
      "outputs": [
        {
          "output_type": "stream",
          "name": "stdout",
          "text": [
            "{'input_ids': <tf.Tensor: shape=(6, 19), dtype=int32, numpy=\n",
            "array([[   101,  12271,  80030,  17958,  27651,  10343,  10104,  10311,\n",
            "         10638,    102,      0,      0,      0,      0,      0,      0,\n",
            "             0,      0,      0],\n",
            "       [   101,  12271,  80030,  10196,  10125,  19272,  86163,    102,\n",
            "             0,      0,      0,      0,      0,      0,      0,      0,\n",
            "             0,      0,      0],\n",
            "       [   101,  12271,  80030,  10126,  10321,    169,  96684,  10129,\n",
            "         10125,  46975,  10127,  48094,    102,      0,      0,      0,\n",
            "             0,      0,      0],\n",
            "       [   101,  12271,  80030,  11573,  10321,    169,  15566,  43805,\n",
            "         76345, 107447,  20088,    102,      0,      0,      0,      0,\n",
            "             0,      0,      0],\n",
            "       [   101,  12271,  80030,  10196,  10119,  29162,  46791,  10133,\n",
            "           193,  11573,  10321,    169,  12041,  11957,    102,      0,\n",
            "             0,      0,      0],\n",
            "       [   101,  12271,  80030,  10196,  49341,  10133,  10840,  37249,\n",
            "         19975,  10605,    193,  11264,  10165,  10661,  12028,  10110,\n",
            "         10198,  16339,    102]], dtype=int32)>, 'token_type_ids': <tf.Tensor: shape=(6, 19), dtype=int32, numpy=\n",
            "array([[0, 0, 0, 0, 0, 0, 0, 0, 0, 0, 0, 0, 0, 0, 0, 0, 0, 0, 0],\n",
            "       [0, 0, 0, 0, 0, 0, 0, 0, 0, 0, 0, 0, 0, 0, 0, 0, 0, 0, 0],\n",
            "       [0, 0, 0, 0, 0, 0, 0, 0, 0, 0, 0, 0, 0, 0, 0, 0, 0, 0, 0],\n",
            "       [0, 0, 0, 0, 0, 0, 0, 0, 0, 0, 0, 0, 0, 0, 0, 0, 0, 0, 0],\n",
            "       [0, 0, 0, 0, 0, 0, 0, 0, 0, 0, 0, 0, 0, 0, 0, 0, 0, 0, 0],\n",
            "       [0, 0, 0, 0, 0, 0, 0, 0, 0, 0, 0, 0, 0, 0, 0, 0, 0, 0, 0]],\n",
            "      dtype=int32)>, 'attention_mask': <tf.Tensor: shape=(6, 19), dtype=int32, numpy=\n",
            "array([[1, 1, 1, 1, 1, 1, 1, 1, 1, 1, 0, 0, 0, 0, 0, 0, 0, 0, 0],\n",
            "       [1, 1, 1, 1, 1, 1, 1, 1, 0, 0, 0, 0, 0, 0, 0, 0, 0, 0, 0],\n",
            "       [1, 1, 1, 1, 1, 1, 1, 1, 1, 1, 1, 1, 1, 0, 0, 0, 0, 0, 0],\n",
            "       [1, 1, 1, 1, 1, 1, 1, 1, 1, 1, 1, 1, 0, 0, 0, 0, 0, 0, 0],\n",
            "       [1, 1, 1, 1, 1, 1, 1, 1, 1, 1, 1, 1, 1, 1, 1, 0, 0, 0, 0],\n",
            "       [1, 1, 1, 1, 1, 1, 1, 1, 1, 1, 1, 1, 1, 1, 1, 1, 1, 1, 1]],\n",
            "      dtype=int32)>}\n"
          ]
        }
      ]
    },
    {
      "cell_type": "code",
      "source": [
        "outputs = model(inputs)\n",
        "print(outputs.logits.shape)"
      ],
      "metadata": {
        "colab": {
          "base_uri": "https://localhost:8080/"
        },
        "id": "KnH9wQMHYYnz",
        "outputId": "8a6c2b51-26f0-4c94-c0ce-03be1da90a12"
      },
      "execution_count": 489,
      "outputs": [
        {
          "output_type": "stream",
          "name": "stdout",
          "text": [
            "(6, 2)\n"
          ]
        }
      ]
    },
    {
      "cell_type": "code",
      "source": [
        "outputs"
      ],
      "metadata": {
        "colab": {
          "base_uri": "https://localhost:8080/"
        },
        "id": "tDu893OnY8S8",
        "outputId": "e06ecc29-aabf-4dd4-b184-1af44d742385"
      },
      "execution_count": 490,
      "outputs": [
        {
          "output_type": "execute_result",
          "data": {
            "text/plain": [
              "TFSequenceClassifierOutput([('logits',\n",
              "                             <tf.Tensor: shape=(6, 2), dtype=float32, numpy=\n",
              "                             array([[ 0.5782284 , -0.33950526],\n",
              "                                    [-1.040824  ,  0.74378407],\n",
              "                                    [ 0.74161243, -0.38850343],\n",
              "                                    [-1.0349548 ,  0.8486584 ],\n",
              "                                    [ 0.32325792, -0.07887127],\n",
              "                                    [-1.4961609 ,  1.3018086 ]], dtype=float32)>)])"
            ]
          },
          "metadata": {},
          "execution_count": 490
        }
      ]
    },
    {
      "cell_type": "code",
      "source": [
        "predictions = tf.math.softmax(outputs.logits, axis=-1)\n",
        "print(predictions)"
      ],
      "metadata": {
        "colab": {
          "base_uri": "https://localhost:8080/"
        },
        "id": "XtDvacSta4E2",
        "outputId": "62f8da34-95f4-4268-d1ac-465d54ffdb37"
      },
      "execution_count": 491,
      "outputs": [
        {
          "output_type": "stream",
          "name": "stdout",
          "text": [
            "tf.Tensor(\n",
            "[[0.7145801  0.2854199 ]\n",
            " [0.14373505 0.8562649 ]\n",
            " [0.75586027 0.24413972]\n",
            " [0.13197441 0.8680256 ]\n",
            " [0.5991991  0.40080088]\n",
            " [0.057434   0.942566  ]], shape=(6, 2), dtype=float32)\n"
          ]
        }
      ]
    },
    {
      "cell_type": "code",
      "source": [
        "model.config.id2label"
      ],
      "metadata": {
        "colab": {
          "base_uri": "https://localhost:8080/"
        },
        "id": "fBW9hae3bC7d",
        "outputId": "a9ba8c9b-bc15-44a3-8ccf-f0bfa48561ee"
      },
      "execution_count": 492,
      "outputs": [
        {
          "output_type": "execute_result",
          "data": {
            "text/plain": [
              "{0: 'LABEL_0', 1: 'LABEL_1'}"
            ]
          },
          "metadata": {},
          "execution_count": 492
        }
      ]
    },
    {
      "cell_type": "code",
      "source": [
        "classifier = pipeline('sentiment-analysis', model=model, tokenizer=tokenizer)\n",
        "classifier(raw_inputs)"
      ],
      "metadata": {
        "colab": {
          "base_uri": "https://localhost:8080/"
        },
        "id": "hxl80iQa-woG",
        "outputId": "90d8374a-622b-4582-f2ba-cbf612b0702c"
      },
      "execution_count": 493,
      "outputs": [
        {
          "output_type": "execute_result",
          "data": {
            "text/plain": [
              "[{'label': 'LABEL_0', 'score': 0.7145801782608032},\n",
              " {'label': 'LABEL_1', 'score': 0.8562650084495544},\n",
              " {'label': 'LABEL_0', 'score': 0.7558603286743164},\n",
              " {'label': 'LABEL_1', 'score': 0.8680256009101868},\n",
              " {'label': 'LABEL_0', 'score': 0.5991987586021423},\n",
              " {'label': 'LABEL_1', 'score': 0.9425659775733948}]"
            ]
          },
          "metadata": {},
          "execution_count": 493
        }
      ]
    }
  ]
}